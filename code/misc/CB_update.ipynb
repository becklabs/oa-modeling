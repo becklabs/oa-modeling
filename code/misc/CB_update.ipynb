{
 "cells": [
  {
   "cell_type": "markdown",
   "metadata": {},
   "source": [
    "### Description\n",
    "For reference only. This code was used to isolate the changes made to the ToRies_Labprocessed2017_to_2021.csv manually by CB so they could be recreated programmatically."
   ]
  },
  {
   "cell_type": "code",
   "execution_count": null,
   "metadata": {},
   "outputs": [],
   "source": [
    "import pandas as pd"
   ]
  },
  {
   "cell_type": "code",
   "execution_count": null,
   "metadata": {},
   "outputs": [],
   "source": [
    "#'concat' is defined as the concatenation of the data in the Seagrant folder without changes\n",
    "concat_cb = pd.read_csv('../../data/SeaGrant-TA_DIC-MassBayData/concat/ToRies_Labprocessed2017_to_2021.csv', parse_dates=['SampleDateTime'])"
   ]
  },
  {
   "cell_type": "code",
   "execution_count": null,
   "metadata": {},
   "outputs": [],
   "source": [
    "# Get rows added by CB\n",
    "cb = pd.DataFrame(columns = list(concat_cb.columns))\n",
    "for ind, row in concat.iterrows():\n",
    "\n",
    "  # Get comparator columns\n",
    "  temp = row['t(oC) out']\n",
    "  press = row['P (dbars) out']\n",
    "  ph = row['pH out']\n",
    "  dic = row['fCO2 out (matm)']\n",
    "  \n",
    "  # Get matching row in mwra batch\n",
    "  match_row = concat_cb[\n",
    "    (abs(concat_cb['t(oC) out'] - temp) < 0.0001)\n",
    "  & (abs(concat_cb['P (dbars) out'] - press) < 0.0001)\n",
    "  & (abs(concat_cb['pH out'] - ph) < 0.0001)\n",
    "  & (abs(concat_cb['fCO2 out (matm)'] - dic) < 0.0001)]\n",
    "\n",
    "  if len(match_row) != 1:\n",
    "    print(\"ERROR\")\n",
    "    break\n",
    "\n",
    "  if ((pd.isnull(row['StationID']) and pd.notnull(match_row['StationID']).values[0])\n",
    "  or (pd.isnull(row['SampleID']) and pd.notnull(match_row['SampleID']).values[0])):\n",
    "    # append the match row to the new dataframe\n",
    "      cb = cb.append(match_row.iloc[0])"
   ]
  },
  {
   "cell_type": "code",
   "execution_count": null,
   "metadata": {},
   "outputs": [],
   "source": [
    "cb.to_csv('../../data/SeaGrant-TA_DIC-MassBayData/concat/ToRies_Labprocessed_CB_Update.csv', index=False)"
   ]
  }
 ],
 "metadata": {
  "kernelspec": {
   "display_name": "Python 3.8.1 64-bit",
   "language": "python",
   "name": "python3"
  },
  "language_info": {
   "name": "python",
   "version": "3.8.1"
  },
  "orig_nbformat": 4,
  "vscode": {
   "interpreter": {
    "hash": "aee8b7b246df8f9039afb4144a1f6fd8d2ca17a180786b69acc140d282b71a49"
   }
  }
 },
 "nbformat": 4,
 "nbformat_minor": 2
}
