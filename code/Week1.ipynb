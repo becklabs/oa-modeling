{
 "cells": [
  {
   "cell_type": "code",
   "execution_count": 4,
   "metadata": {},
   "outputs": [],
   "source": [
    "import pandas as pd\n",
    "import os"
   ]
  },
  {
   "cell_type": "markdown",
   "metadata": {},
   "source": [
    "# SeaGrant-TA_DIC-MassBayData Concatentation"
   ]
  },
  {
   "cell_type": "code",
   "execution_count": 12,
   "metadata": {},
   "outputs": [],
   "source": [
    "sheet2017 = pd.read_excel('../data/SeaGrant-TA_DIC-MassBayData/ToRies_Labprocessed2017sharedSeaGlass.xlsx',\n",
    "                          sheet_name=None)\n",
    "\n",
    "sheet2018 = pd.read_excel('../data/SeaGrant-TA_DIC-MassBayData/ToRies_Labprocessed2018_sharedSeaGlass.xlsx',\n",
    "                          sheet_name=None)\n",
    "sheet2019 = pd.read_excel('../data/SeaGrant-TA_DIC-MassBayData/ToRies_Labprocessed2019_sharedSeaGlass.xlsx',\n",
    "                          sheet_name=None)"
   ]
  },
  {
   "cell_type": "code",
   "execution_count": 13,
   "metadata": {},
   "outputs": [],
   "source": [
    "data2017 = sheet2017['batch_all2017p']\n",
    "metadata2017 = sheet2017['readme']\n",
    "\n",
    "data2018 = sheet2018['batch_all2018p']\n",
    "metadata2018 = sheet2018['readme']\n",
    "\n",
    "data2019 = sheet2019['batch_all2019p']\n",
    "metadata2019 = sheet2019['readme2019']"
   ]
  },
  {
   "cell_type": "code",
   "execution_count": 14,
   "metadata": {},
   "outputs": [],
   "source": [
    "intersection = set(data2017.columns).intersection(set(data2018.columns), set(data2019.columns))\n",
    "union = set(data2017.columns).union(set(data2018.columns), set(data2019.columns))"
   ]
  },
  {
   "cell_type": "code",
   "execution_count": 15,
   "metadata": {},
   "outputs": [],
   "source": [
    "for col in union:\n",
    "    if col not in intersection:\n",
    "        print(col)"
   ]
  },
  {
   "cell_type": "code",
   "execution_count": 16,
   "metadata": {},
   "outputs": [],
   "source": [
    "concat = pd.concat([data2017,data2018,data2019], sort=False)\n",
    "concat.to_csv(\"../data/SeaGrant-TA_DIC-MassBayData/concat/ToRies_Labprocessed2017_to_2019.csv\", index=False)"
   ]
  },
  {
   "cell_type": "code",
   "execution_count": 17,
   "metadata": {},
   "outputs": [],
   "source": [
    "metadata2017.to_csv('../data/SeaGrant-TA_DIC-MassBayData/concat/metadata/ToRies_Labprocessed2017sharedSeaGlass_metadata.csv', index=False)\n",
    "metadata2018.to_csv('../data/SeaGrant-TA_DIC-MassBayData/concat/metadata/ToRies_Labprocessed2018_sharedSeaGlass_metadata.csv', index=False)\n",
    "metadata2019.to_csv('../data/SeaGrant-TA_DIC-MassBayData/concat/metadata/ToRies_Labprocessed2019_sharedSeaGlass_metadata.csv', index=False)"
   ]
  },
  {
   "cell_type": "markdown",
   "metadata": {},
   "source": [
    "# MassBay Data Concatenation"
   ]
  },
  {
   "cell_type": "code",
   "execution_count": 2,
   "metadata": {},
   "outputs": [],
   "source": [
    "data_dir = '../data/MassBay/OldFormat/'"
   ]
  },
  {
   "cell_type": "code",
   "execution_count": 5,
   "metadata": {},
   "outputs": [],
   "source": [
    "# check that each excel file in the data_dir has only one sheet\n",
    "for file in os.listdir(data_dir):\n",
    "    if file.endswith('.xlsx'):\n",
    "        df = pd.read_excel(data_dir + file, sheet_name=None)\n",
    "        if len(df) != 1:\n",
    "            print('ERROR:', file, 'has', len(df), 'sheets')\n",
    "            break"
   ]
  },
  {
   "cell_type": "code",
   "execution_count": 9,
   "metadata": {},
   "outputs": [],
   "source": [
    "# import the first sheet as a csv from every excel sheet in data_dir\n",
    "csvs = {}\n",
    "files = os.listdir(data_dir)\n",
    "for file in files:\n",
    "    if file.endswith('.xlsx'):\n",
    "        df = pd.read_excel(data_dir + file, sheet_name=0)\n",
    "        csvs[file] = df"
   ]
  },
  {
   "cell_type": "code",
   "execution_count": 10,
   "metadata": {},
   "outputs": [],
   "source": [
    "# check that all elements of csvs have the same columns\n",
    "columns = set(list(csvs.values())[0].columns)\n",
    "\n",
    "# Inconsistency confirmed to be insignificant\n",
    "csvs.pop('WN185 Event dataJune2018.xlsx')\n",
    "\n",
    "for item in csvs.items():\n",
    "  if columns != set(item[1].columns):\n",
    "        print(\"ERROR: Column inconsistency in :\" +item[0]) # error  if not all elements of csvs have the same columns (should be the same)\n",
    "        break"
   ]
  },
  {
   "cell_type": "code",
   "execution_count": 11,
   "metadata": {},
   "outputs": [],
   "source": [
    "# concatenate all csvs into one dataframe and save as csv\n",
    "csv_list = list(csvs.values())\n",
    "df = pd.concat(csv_list, ignore_index=True)\n",
    "df.to_csv('../data/MassBay/OldFormat/MassBay_OldFormat_concat.csv', index = False)"
   ]
  },
  {
   "cell_type": "code",
   "execution_count": null,
   "metadata": {},
   "outputs": [],
   "source": []
  }
 ],
 "metadata": {
  "kernelspec": {
   "display_name": "Python 3",
   "language": "python",
   "name": "python3"
  },
  "language_info": {
   "codemirror_mode": {
    "name": "ipython",
    "version": 3
   },
   "file_extension": ".py",
   "mimetype": "text/x-python",
   "name": "python",
   "nbconvert_exporter": "python",
   "pygments_lexer": "ipython3",
   "version": "3.7.4"
  }
 },
 "nbformat": 4,
 "nbformat_minor": 2
}
