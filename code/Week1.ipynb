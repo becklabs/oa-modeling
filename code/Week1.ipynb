{
 "cells": [
  {
   "cell_type": "code",
   "execution_count": 2,
   "metadata": {},
   "outputs": [],
   "source": [
    "import pandas as pd\n",
    "import os"
   ]
  },
  {
   "cell_type": "code",
   "execution_count": 3,
   "metadata": {},
   "outputs": [],
   "source": [
    "sheet2017 = pd.read_excel('../data/SeaGrant-TA_DIC-MassBayData/ToRies_Labprocessed2017sharedSeaGlass.xlsx',\n",
    "                          sheet_name=None)\n",
    "\n",
    "sheet2018 = pd.read_excel('../data/SeaGrant-TA_DIC-MassBayData/ToRies_Labprocessed2018_sharedSeaGlass.xlsx',\n",
    "                          sheet_name=None)\n",
    "sheet2019 = pd.read_excel('../data/SeaGrant-TA_DIC-MassBayData/ToRies_Labprocessed2019_sharedSeaGlass.xlsx',\n",
    "                          sheet_name=None)"
   ]
  },
  {
   "cell_type": "code",
   "execution_count": 4,
   "metadata": {},
   "outputs": [],
   "source": [
    "data2017 = sheet2017['batch_all2017p']\n",
    "metadata2017 = sheet2017['readme']\n",
    "\n",
    "data2018 = sheet2018['batch_all2018p']\n",
    "metadata2018 = sheet2018['readme']\n",
    "\n",
    "data2019 = sheet2019['batch_all2019p']\n",
    "metadata2019 = sheet2019['readme2019']"
   ]
  },
  {
   "cell_type": "code",
   "execution_count": 5,
   "metadata": {},
   "outputs": [],
   "source": [
    "intersection = set(data2017.columns).intersection(set(data2018.columns), set(data2019.columns))\n",
    "union = set(data2017.columns).union(set(data2018.columns), set(data2019.columns))"
   ]
  },
  {
   "cell_type": "code",
   "execution_count": 6,
   "metadata": {},
   "outputs": [],
   "source": [
    "for col in union:\n",
    "    if col not in intersection:\n",
    "        print(col)"
   ]
  },
  {
   "cell_type": "code",
   "execution_count": 11,
   "metadata": {},
   "outputs": [],
   "source": [
    "concat = pd.concat([data2017,data2018,data2019], sort=False)\n",
    "#concat.to_csv(\"ToRies_Labprocessed2017_to_2019.csv\", index=False)"
   ]
  },
  {
   "cell_type": "code",
   "execution_count": 7,
   "metadata": {},
   "outputs": [],
   "source": [
    "metadata2017.to_csv('ToRies_Labprocessed2017sharedSeaGlass_metadata.csv', index=False)\n",
    "metadata2018.to_csv('ToRies_Labprocessed2018_sharedSeaGlass_metadata.csv', index=False)\n",
    "metadata2019.to_csv('ToRies_Labprocessed2019_sharedSeaGlass_metadata.csv', index=False)"
   ]
  },
  {
   "cell_type": "code",
   "execution_count": 8,
   "metadata": {},
   "outputs": [],
   "source": [
    "def get_metadata(row):\n",
    "    metadata_csv = row['Data Source'] + \"_metadata.csv\"\n",
    "    return pd.read_csv(metadata_csv)"
   ]
  },
  {
   "cell_type": "code",
   "execution_count": 12,
   "metadata": {},
   "outputs": [
    {
     "data": {
      "text/html": [
       "<div>\n",
       "<style scoped>\n",
       "    .dataframe tbody tr th:only-of-type {\n",
       "        vertical-align: middle;\n",
       "    }\n",
       "\n",
       "    .dataframe tbody tr th {\n",
       "        vertical-align: top;\n",
       "    }\n",
       "\n",
       "    .dataframe thead th {\n",
       "        text-align: right;\n",
       "    }\n",
       "</style>\n",
       "<table border=\"1\" class=\"dataframe\">\n",
       "  <thead>\n",
       "    <tr style=\"text-align: right;\">\n",
       "      <th></th>\n",
       "      <th>Unnamed: 0</th>\n",
       "      <th>Unnamed: 1</th>\n",
       "    </tr>\n",
       "  </thead>\n",
       "  <tbody>\n",
       "    <tr>\n",
       "      <td>0</td>\n",
       "      <td>This file contains data collected by MRWA in M...</td>\n",
       "      <td>NaN</td>\n",
       "    </tr>\n",
       "    <tr>\n",
       "      <td>1</td>\n",
       "      <td>batch_all2017p is processed as per recommendat...</td>\n",
       "      <td>NaN</td>\n",
       "    </tr>\n",
       "    <tr>\n",
       "      <td>2</td>\n",
       "      <td>NaN</td>\n",
       "      <td>NaN</td>\n",
       "    </tr>\n",
       "    <tr>\n",
       "      <td>3</td>\n",
       "      <td>Columns</td>\n",
       "      <td>Description</td>\n",
       "    </tr>\n",
       "    <tr>\n",
       "      <td>4</td>\n",
       "      <td>A-D</td>\n",
       "      <td>Our description of samples when sent to Ries' lab</td>\n",
       "    </tr>\n",
       "    <tr>\n",
       "      <td>5</td>\n",
       "      <td>B-R</td>\n",
       "      <td>Labels and Data as collected by MRWA in the field</td>\n",
       "    </tr>\n",
       "    <tr>\n",
       "      <td>6</td>\n",
       "      <td>S-AJ</td>\n",
       "      <td>TA and DIC measured in the lab; output from th...</td>\n",
       "    </tr>\n",
       "    <tr>\n",
       "      <td>7</td>\n",
       "      <td>NaN</td>\n",
       "      <td>NaN</td>\n",
       "    </tr>\n",
       "    <tr>\n",
       "      <td>8</td>\n",
       "      <td>Outputs are calculated using the following con...</td>\n",
       "      <td>NaN</td>\n",
       "    </tr>\n",
       "    <tr>\n",
       "      <td>9</td>\n",
       "      <td>pH Scale:</td>\n",
       "      <td>NBS scale (mol/kg-H2O)</td>\n",
       "    </tr>\n",
       "    <tr>\n",
       "      <td>10</td>\n",
       "      <td>CO2 Constants:</td>\n",
       "      <td>K1, K2 from \f",
       "Lueker et al., 2000</td>\n",
       "    </tr>\n",
       "    <tr>\n",
       "      <td>11</td>\n",
       "      <td>KSO4 Source:</td>\n",
       "      <td>Dickson, 1990</td>\n",
       "    </tr>\n",
       "    <tr>\n",
       "      <td>12</td>\n",
       "      <td>KF Source:</td>\n",
       "      <td>Dickson and Riley, 1979</td>\n",
       "    </tr>\n",
       "    <tr>\n",
       "      <td>13</td>\n",
       "      <td>Total Boron Source:</td>\n",
       "      <td>Lee et al., 2010</td>\n",
       "    </tr>\n",
       "    <tr>\n",
       "      <td>14</td>\n",
       "      <td>NaN</td>\n",
       "      <td>NaN</td>\n",
       "    </tr>\n",
       "    <tr>\n",
       "      <td>15</td>\n",
       "      <td>NaN</td>\n",
       "      <td>NaN</td>\n",
       "    </tr>\n",
       "    <tr>\n",
       "      <td>16</td>\n",
       "      <td>Samples highlighted show the same values at fi...</td>\n",
       "      <td>NaN</td>\n",
       "    </tr>\n",
       "  </tbody>\n",
       "</table>\n",
       "</div>"
      ],
      "text/plain": [
       "                                           Unnamed: 0  \\\n",
       "0   This file contains data collected by MRWA in M...   \n",
       "1   batch_all2017p is processed as per recommendat...   \n",
       "2                                                 NaN   \n",
       "3                                             Columns   \n",
       "4                                                 A-D   \n",
       "5                                                 B-R   \n",
       "6                                                S-AJ   \n",
       "7                                                 NaN   \n",
       "8   Outputs are calculated using the following con...   \n",
       "9                                           pH Scale:   \n",
       "10                                     CO2 Constants:   \n",
       "11                                       KSO4 Source:   \n",
       "12                                         KF Source:   \n",
       "13                                Total Boron Source:   \n",
       "14                                                NaN   \n",
       "15                                                NaN   \n",
       "16  Samples highlighted show the same values at fi...   \n",
       "\n",
       "                                           Unnamed: 1  \n",
       "0                                                 NaN  \n",
       "1                                                 NaN  \n",
       "2                                                 NaN  \n",
       "3                                         Description  \n",
       "4   Our description of samples when sent to Ries' lab  \n",
       "5   Labels and Data as collected by MRWA in the field  \n",
       "6   TA and DIC measured in the lab; output from th...  \n",
       "7                                                 NaN  \n",
       "8                                                 NaN  \n",
       "9                             NBS scale (mol/kg-H2O)   \n",
       "10                   K1, K2 from \n",
       "Lueker et al., 2000  \n",
       "11                                     Dickson, 1990   \n",
       "12                            Dickson and Riley, 1979  \n",
       "13                                  Lee et al., 2010   \n",
       "14                                                NaN  \n",
       "15                                                NaN  \n",
       "16                                                NaN  "
      ]
     },
     "execution_count": 12,
     "metadata": {},
     "output_type": "execute_result"
    }
   ],
   "source": [
    "get_metadata(concat.iloc[2])"
   ]
  },
  {
   "cell_type": "code",
   "execution_count": null,
   "metadata": {},
   "outputs": [],
   "source": []
  }
 ],
 "metadata": {
  "kernelspec": {
   "display_name": "Python 3",
   "language": "python",
   "name": "python3"
  },
  "language_info": {
   "codemirror_mode": {
    "name": "ipython",
    "version": 3
   },
   "file_extension": ".py",
   "mimetype": "text/x-python",
   "name": "python",
   "nbconvert_exporter": "python",
   "pygments_lexer": "ipython3",
   "version": "3.7.4"
  }
 },
 "nbformat": 4,
 "nbformat_minor": 2
}
