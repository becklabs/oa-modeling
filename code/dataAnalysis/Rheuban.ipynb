{
 "cells": [
  {
   "cell_type": "markdown",
   "metadata": {},
   "source": [
    "Implement a multiple regression of Total Alkalinity based on Salinity, Temperature, and Latitude per Rheuban 2021.\n",
    "Use both shell day and MWRA datasets"
   ]
  },
  {
   "cell_type": "code",
   "execution_count": 93,
   "metadata": {},
   "outputs": [],
   "source": [
    "import pandas as pd\n",
    "from sklearn import linear_model\n",
    "import requests"
   ]
  },
  {
   "cell_type": "code",
   "execution_count": 103,
   "metadata": {},
   "outputs": [],
   "source": [
    "mwra = pd.read_csv('../../data/concat/MWRA_seagrant_concat_batch.csv', parse_dates = ['PROF_DATE_TIME_LOCAL'])\n",
    "\n",
    "max_lat = max(mwra['LATITUDE'])\n",
    "min_lat = min(mwra['LATITUDE'])"
   ]
  },
  {
   "cell_type": "markdown",
   "metadata": {},
   "source": [
    "## Shell Day dataset"
   ]
  },
  {
   "cell_type": "code",
   "execution_count": 104,
   "metadata": {},
   "outputs": [],
   "source": [
    "shell_day = pd.read_csv('../../data/Shell_Day_2019/Shell_Day_2019_Data.csv')"
   ]
  },
  {
   "cell_type": "code",
   "execution_count": 105,
   "metadata": {},
   "outputs": [
    {
     "name": "stdout",
     "output_type": "stream",
     "text": [
      "15\n"
     ]
    }
   ],
   "source": [
    "# Remove Bad Temp data\n",
    "shell_day = shell_day[shell_day['Water Temp (degC)'] >= 0]\n",
    "\n",
    "# Remove Bad Salinity data\n",
    "shell_day = shell_day[shell_day['Field Salinity (PSU)'] >= 0]\n",
    "\n",
    "# Remove bad TA data\n",
    "shell_day  = shell_day[shell_day['TA (umol/kg)'] >= 0]\n",
    "\n",
    "# Remove bad depth data\n",
    "# If the value of Sample Depth (m) is 'Surface' replace with 0, convert values to float\n",
    "#shell_day['Sample Depth (m)'] = shell_day['Sample Depth (m)'].replace('Surface', 0).astype(float)\n",
    "#shell_day = shell_day[shell_day['Sample Depth (m)'] >= 0]\n",
    "#shell_day = shell_day[shell_day['Water Depth (m)'] >= 0]\n",
    "\n",
    "# Isolate Gulf of Maine Data\n",
    "shell_day = shell_day[shell_day['Latitude - N'] >= min_lat] # southern bound\n",
    "shell_day  = shell_day[shell_day['Station Name'] != 'Taylor Point'] # buzzards bay\n",
    "shell_day = shell_day[shell_day['Station Name'] != 'WR2X'] # buzzards bay\n",
    "\n",
    "# Compute depth coeff\n",
    "#shell_day['Depth_coeff'] = shell_day['Sample Depth (m)'] / shell_day['Water Depth (m)']\n",
    "print(len(shell_day))"
   ]
  },
  {
   "cell_type": "code",
   "execution_count": 106,
   "metadata": {},
   "outputs": [
    {
     "name": "stdout",
     "output_type": "stream",
     "text": [
      "Coefficients:  [624.88727009 559.98089887 -41.87287876  26.87794813]\n",
      "Intercept:  15406.452816656023\n",
      "R^2:  0.8829880213803615\n"
     ]
    }
   ],
   "source": [
    "# Define independent variables\n",
    "X = shell_day[['Latitude - N', 'Longitude - W', 'Water Temp (degC)', 'Field Salinity (PSU)']]\n",
    "\n",
    "# Define dependent variable\n",
    "y = shell_day['TA (umol/kg)']\n",
    "\n",
    "# Create linear regression object\n",
    "regr = linear_model.LinearRegression()\n",
    "\n",
    "# Train the model using the training sets\n",
    "regr.fit(X, y)\n",
    "\n",
    "# The coefficients\n",
    "print('Coefficients: ', regr.coef_) # [-114.53771149  -26.97219455  -43.94021411   37.85773728]\n",
    "print('Intercept: ', regr.intercept_) # 4873.465086242284\n",
    "print('R^2: ', regr.score(X, y)) # 0.7536012435717213"
   ]
  },
  {
   "cell_type": "markdown",
   "metadata": {},
   "source": [
    "## MWRA dataset"
   ]
  },
  {
   "cell_type": "code",
   "execution_count": 115,
   "metadata": {},
   "outputs": [],
   "source": [
    "mwra = pd.read_csv('../../data/concat/MWRA_seagrant_concat_batch.csv', parse_dates = ['PROF_DATE_TIME_LOCAL'])"
   ]
  },
  {
   "cell_type": "code",
   "execution_count": 116,
   "metadata": {},
   "outputs": [],
   "source": [
    "# Clean the data\n",
    "mwra = mwra[\n",
    "  (mwra['TEMP (C)'].notnull()) &\n",
    "   (mwra['SAL (PSU)'].notnull()) &\n",
    "    (mwra['TA in (mmol/kgSW)'].notnull()) &\n",
    "      (mwra['DEPTH (m)'].notnull()) &\n",
    "        (mwra['LATITUDE'].notnull()) &\n",
    "          (mwra['LONGITUDE'].notnull()) &\n",
    "          (mwra['PROF_DATE_TIME_LOCAL'].notnull())\n",
    "    ]\n",
    "# millisecond column\n",
    "mwra['MS'] = [dt.timestamp() - 1451653261 for dt in mwra['PROF_DATE_TIME_LOCAL']]"
   ]
  },
  {
   "cell_type": "code",
   "execution_count": 117,
   "metadata": {},
   "outputs": [
    {
     "name": "stdout",
     "output_type": "stream",
     "text": [
      "Coefficients:  [ 2.69942588e+00 -2.34630781e+00 -3.84368045e-01  4.63884504e+01\n",
      "  2.31985394e-07]\n",
      "Intercept:  389.90009468982885\n",
      "R^2:  0.8628700907439656\n"
     ]
    }
   ],
   "source": [
    "# Define independent variables\n",
    "X = mwra[['LATITUDE', 'LONGITUDE', 'TEMP (C)', 'SAL (PSU)', 'MS']]\n",
    "# Define dependent variable\n",
    "y = mwra['TA in (mmol/kgSW)']\n",
    "\n",
    "# Create the linear regression object\n",
    "regr = linear_model.LinearRegression()\n",
    "\n",
    "# Train the model using the training sets\n",
    "regr.fit(X, y)\n",
    "\n",
    "# The coefficients\n",
    "print('Coefficients: ', regr.coef_) # [-6.77573277  0.66802884 -0.43215554 45.99332592]\n",
    "print('Intercept: ', regr.intercept_) # 1035.8773690253665\n",
    "print('R^2: ', regr.score(X, y)) # 0.8573989356359999"
   ]
  },
  {
   "cell_type": "markdown",
   "metadata": {},
   "source": [
    "### Incorporating tide data from Boston NOAA station (8443970)"
   ]
  },
  {
   "cell_type": "code",
   "execution_count": 101,
   "metadata": {},
   "outputs": [],
   "source": [
    "# Get unique days in the mwra data\n",
    "#days = mwra['PROF_DATE_TIME_LOCAL']\n",
    "days = list(set([dt.strftime(\"%Y%m%d\") for dt in mwra['PROF_DATE_TIME_LOCAL']]))"
   ]
  },
  {
   "cell_type": "code",
   "execution_count": null,
   "metadata": {},
   "outputs": [],
   "source": [
    "requests.get()"
   ]
  },
  {
   "cell_type": "code",
   "execution_count": 102,
   "metadata": {},
   "outputs": [
    {
     "data": {
      "text/plain": [
       "['20190821',\n",
       " '20170906',\n",
       " '20180515',\n",
       " '20170613',\n",
       " '20190516',\n",
       " '20190606',\n",
       " '20191030',\n",
       " '20191010',\n",
       " '20190320',\n",
       " '20180718',\n",
       " '20171101',\n",
       " '20180724',\n",
       " '20190702',\n",
       " '20190717',\n",
       " '20170726',\n",
       " '20180622',\n",
       " '20180719',\n",
       " '20190515',\n",
       " '20180206',\n",
       " '20181024',\n",
       " '20190815',\n",
       " '20180410',\n",
       " '20180809',\n",
       " '20180927',\n",
       " '20170516',\n",
       " '20171020',\n",
       " '20181130',\n",
       " '20171023',\n",
       " '20191111',\n",
       " '20170424',\n",
       " '20190205',\n",
       " '20171011',\n",
       " '20180905',\n",
       " '20170823']"
      ]
     },
     "execution_count": 102,
     "metadata": {},
     "output_type": "execute_result"
    }
   ],
   "source": [
    "days"
   ]
  },
  {
   "cell_type": "markdown",
   "metadata": {},
   "source": []
  }
 ],
 "metadata": {
  "kernelspec": {
   "display_name": "Python 3.8.1 64-bit",
   "language": "python",
   "name": "python3"
  },
  "language_info": {
   "codemirror_mode": {
    "name": "ipython",
    "version": 3
   },
   "file_extension": ".py",
   "mimetype": "text/x-python",
   "name": "python",
   "nbconvert_exporter": "python",
   "pygments_lexer": "ipython3",
   "version": "3.8.1"
  },
  "orig_nbformat": 4,
  "vscode": {
   "interpreter": {
    "hash": "aee8b7b246df8f9039afb4144a1f6fd8d2ca17a180786b69acc140d282b71a49"
   }
  }
 },
 "nbformat": 4,
 "nbformat_minor": 2
}
