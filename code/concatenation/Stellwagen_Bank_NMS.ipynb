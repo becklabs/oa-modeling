{
 "cells": [
  {
   "cell_type": "code",
   "execution_count": 104,
   "metadata": {},
   "outputs": [],
   "source": [
    "import os\n",
    "import csv\n",
    "import pandas as pd\n",
    "import datetime\n",
    "import dateparser\n",
    "from tqdm import tqdm\n",
    "import matplotlib.pyplot as plt\n",
    "import numpy as np\n",
    "from pytz import timezone"
   ]
  },
  {
   "cell_type": "code",
   "execution_count": 82,
   "metadata": {},
   "outputs": [],
   "source": [
    "data_dir = '../../data/'"
   ]
  },
  {
   "cell_type": "markdown",
   "metadata": {},
   "source": [
    "#### Define CSV iterator to read the data in its \"segmented\" format"
   ]
  },
  {
   "cell_type": "code",
   "execution_count": 83,
   "metadata": {},
   "outputs": [],
   "source": [
    "class CSVIterator:\n",
    "  def __init__(self, filename, data_start_mark, data_end_mark, stellwagen = False):\n",
    "    self.stellwagen = stellwagen\n",
    "    self.filename = filename\n",
    "    self.twoDArray = self.csvToArr(filename)\n",
    "    self.data_start_mark = data_start_mark\n",
    "    self.data_end_mark = data_end_mark\n",
    "    self.curr_ind = 0\n",
    "\n",
    "  def csvToArr(self, filename):\n",
    "    twoDArray = []\n",
    "    with open(filename, newline='') as csvfile:\n",
    "      data = csv.reader(csvfile, delimiter=',', quotechar='\"')\n",
    "      for row in data:\n",
    "        twoDArray.append(row)\n",
    "    return [arr if arr else [''] for arr in twoDArray]\n",
    "  \n",
    "  def hasNextData(self):\n",
    "    return self.curr_ind < len(self.twoDArray) and self.data_start_mark in [arr[0] for arr in self.twoDArray[self.curr_ind:]]\n",
    "    \n",
    "  def getNextData(self):\n",
    "    if not self.hasNextData():\n",
    "      raise Exception('No data left')\n",
    "    \n",
    "    # Move to the column row\n",
    "    while self.twoDArray[self.curr_ind][0] != self.data_start_mark:\n",
    "      self.curr_ind += 1\n",
    "\n",
    "    if self.stellwagen:\n",
    "      self.curr_ind += 1\n",
    "      \n",
    "    columns = self.twoDArray[self.curr_ind]\n",
    "\n",
    "    # Move to the start of the data\n",
    "    self.curr_ind += 1\n",
    "    \n",
    "    data_start_ind = self.curr_ind\n",
    "\n",
    "    while self.curr_ind < len(self.twoDArray) and self.twoDArray[self.curr_ind][0] != self.data_end_mark:\n",
    "      self.curr_ind += 1\n",
    "\n",
    "    data = self.twoDArray[data_start_ind:self.curr_ind]\n",
    "\n",
    "    try:\n",
    "      return pd.DataFrame(data, columns = columns)\n",
    "    except:\n",
    "      raise Exception(f'Error parsing {self.filename}')"
   ]
  },
  {
   "cell_type": "code",
   "execution_count": 84,
   "metadata": {},
   "outputs": [],
   "source": [
    "def get_all_data(csv_it):\n",
    "  chunks = []\n",
    "  while csv_it.hasNextData():\n",
    "    next_data = csv_it.getNextData()\n",
    "    chunks.append(next_data)\n",
    "  try:\n",
    "    all_data = pd.concat(chunks, ignore_index=True)\n",
    "  except:\n",
    "    raise Exception(f'Error concatenating {csv_it.filename}')\n",
    "  return all_data"
   ]
  },
  {
   "cell_type": "markdown",
   "metadata": {},
   "source": [
    "#### Read Sensor Data"
   ]
  },
  {
   "cell_type": "code",
   "execution_count": 107,
   "metadata": {},
   "outputs": [],
   "source": [
    "start = 'DATE'\n",
    "end = 'Eureka_Manta_2'\n",
    "csvs = []\n",
    "\n",
    "for file in os.listdir(data_dir + 'Stellwagen_Bank_NMS/'):\n",
    "    if file.endswith(\".csv\"):\n",
    "      if file.split('.')[0].split('_')[-1] == 'SBNMS':\n",
    "        filename = data_dir + 'Stellwagen_Bank_NMS/' + file\n",
    "\n",
    "        it = CSVIterator(filename, start, end)\n",
    "\n",
    "        all_data = get_all_data(it)\n",
    "\n",
    "        csvs.append(all_data)\n",
    "      \n",
    "sensor_data = pd.concat(csvs, ignore_index=True)"
   ]
  },
  {
   "cell_type": "markdown",
   "metadata": {},
   "source": [
    "#### Clean the sensor data"
   ]
  },
  {
   "cell_type": "code",
   "execution_count": 108,
   "metadata": {},
   "outputs": [
    {
     "name": "stderr",
     "output_type": "stream",
     "text": [
      "/Users/becklabash/Library/Python/3.8/lib/python/site-packages/dateparser/date_parser.py:35: PytzUsageWarning: The localize method is no longer necessary, as this time zone supports the fold attribute (PEP 495). For more details on migrating to a PEP 495-compliant implementation, see https://pytz-deprecation-shim.readthedocs.io/en/latest/migration.html\n",
      "  date_obj = stz.localize(date_obj)\n"
     ]
    }
   ],
   "source": [
    "# Discard Spec Conductance less than or equal to 20000\n",
    "sensor_data['SpCond_uS/cm'] = sensor_data['SpCond_uS/cm'].astype(float)\n",
    "sensor_data = sensor_data[sensor_data['SpCond_uS/cm'] > 20000]\n",
    "\n",
    "# Parse date strings to datetime\n",
    "sensor_data['Timestamp'] = [dateparser.parse(row['DATE'] + \" \" +  row['TIME']) for _, row in sensor_data.iterrows()]\n",
    "\n",
    "# Set the timezone to eastern\n",
    "sensor_data['Timestamp'] = sensor_data['Timestamp'].dt.tz_localize(timezone('US/Eastern'))\n",
    "\n",
    "# Sort by timestamp\n",
    "sensor_data.sort_values(by='Timestamp', inplace=True)\n",
    "\n",
    "# Create bin columns\n",
    "sensor_data['Y-m-d-H-M'] = [datetime.datetime.strftime(date, \"%Y-%m-%d-%H-%M\") for date in sensor_data['Timestamp']]\n",
    "sensor_data['Y-m-d'] = [datetime.datetime.strftime(date, \"%Y-%m-%d\") for date in sensor_data['Timestamp']]"
   ]
  },
  {
   "cell_type": "markdown",
   "metadata": {},
   "source": [
    "#### Read telemetry data (lat, lon, ele)"
   ]
  },
  {
   "cell_type": "code",
   "execution_count": 109,
   "metadata": {},
   "outputs": [],
   "source": [
    "start = 'trkpt'\n",
    "end = ''\n",
    "csvs = []\n",
    "\n",
    "for file in os.listdir(data_dir + 'Stellwagen_Bank_NMS/'):\n",
    "    if file.endswith(\".csv\"):\n",
    "      if len(file.split('_')) == 3:\n",
    "        filename = data_dir + 'Stellwagen_Bank_NMS/' + file\n",
    "        it = CSVIterator(filename, start, end, stellwagen = True)\n",
    "        all_data = get_all_data(it)\n",
    "        csvs.append(all_data)\n",
    "telemetry_data = pd.concat(csvs, ignore_index=True)"
   ]
  },
  {
   "cell_type": "markdown",
   "metadata": {},
   "source": [
    "#### Clean the telemetry data"
   ]
  },
  {
   "cell_type": "code",
   "execution_count": 110,
   "metadata": {},
   "outputs": [],
   "source": [
    "# Parse date strings to datetime\n",
    "telemetry_data['Timestamp'] = [datetime.datetime.strptime(date, \"%Y-%m-%dT%H:%M:%SZ\") for date in telemetry_data['time']]\n",
    "\n",
    "# Set the timezone to UTC then convert to Eastern time\n",
    "telemetry_data['Timestamp'] = [date.replace(tzinfo=timezone('UTC')).astimezone(timezone('US/Eastern')) for date in telemetry_data['Timestamp']]\n",
    "\n",
    "# Create bin columns\n",
    "telemetry_data['Y-m-d-H-M'] = [datetime.datetime.strftime(date, \"%Y-%m-%d-%H-%M\") for date in telemetry_data['Timestamp']]\n",
    "telemetry_data['Y-m-d'] = [datetime.datetime.strftime(date, \"%Y-%m-%d\") for date in telemetry_data['Timestamp']]"
   ]
  },
  {
   "cell_type": "markdown",
   "metadata": {},
   "source": [
    "#### Match telemetry to the sensor data using time"
   ]
  },
  {
   "cell_type": "code",
   "execution_count": 112,
   "metadata": {},
   "outputs": [
    {
     "name": "stderr",
     "output_type": "stream",
     "text": [
      "1672it [00:07, 210.53it/s]"
     ]
    },
    {
     "name": "stdout",
     "output_type": "stream",
     "text": [
      "Matched 756 out of 1672 points\n"
     ]
    },
    {
     "name": "stderr",
     "output_type": "stream",
     "text": [
      "\n"
     ]
    }
   ],
   "source": [
    "for ind, row in tqdm(sensor_data.iterrows()):\n",
    "  time_bin = row['Y-m-d-H-M']\n",
    "  time = row['Timestamp']\n",
    "  potential_matches = telemetry_data[telemetry_data['Y-m-d-H-M'] == time_bin]\n",
    "  for match_ind, match in potential_matches.iterrows():\n",
    "    if abs(match['Timestamp'] - time) < datetime.timedelta(seconds=2):\n",
    "      sensor_data.loc[ind, 'lat'] = match['lat']\n",
    "      sensor_data.loc[ind, 'lon'] = match['lon']\n",
    "      sensor_data.loc[ind, 'ele'] = match['ele']\n",
    "      break\n",
    "print(f'Matched {len(sensor_data[sensor_data[\"lat\"].notnull()])} out of {len(sensor_data)} points')"
   ]
  },
  {
   "cell_type": "markdown",
   "metadata": {},
   "source": [
    "#### Clean the data and export"
   ]
  },
  {
   "cell_type": "code",
   "execution_count": 56,
   "metadata": {},
   "outputs": [],
   "source": [
    "sensor_data[sensor_data['lat'].notnull()].to_csv(data_dir + 'Stellwagen_Bank_NMS/concat/2019_SBNMS.csv', index=False)"
   ]
  },
  {
   "cell_type": "code",
   "execution_count": 94,
   "metadata": {},
   "outputs": [
    {
     "data": {
      "text/plain": [
       "{'2019-02-23',\n",
       " '2019-03-19',\n",
       " '2019-04-12',\n",
       " '2019-04-17',\n",
       " '2019-04-25',\n",
       " '2019-04-29',\n",
       " '2019-04-30'}"
      ]
     },
     "execution_count": 94,
     "metadata": {},
     "output_type": "execute_result"
    }
   ],
   "source": [
    "set(telemetry_data['Y-m-d'].unique()).intersection(set(sensor_data['Y-m-d'].unique()))"
   ]
  },
  {
   "cell_type": "code",
   "execution_count": 113,
   "metadata": {},
   "outputs": [
    {
     "data": {
      "text/plain": [
       "[<matplotlib.lines.Line2D at 0x7f80c3baf3a0>]"
      ]
     },
     "execution_count": 113,
     "metadata": {},
     "output_type": "execute_result"
    },
    {
     "data": {
      "image/png": "[encoded data removed]",
      "text/plain": [
       "<Figure size 432x288 with 1 Axes>"
      ]
     },
     "metadata": {
      "needs_background": "light"
     },
     "output_type": "display_data"
    }
   ],
   "source": [
    "sensor_feb_23 = sensor_data[sensor_data['Y-m-d'] == '2019-02-23']\n",
    "telem_feb_23 = telemetry_data[telemetry_data['Y-m-d'] == '2019-02-23']\n",
    "# Plot the timestamps of the sensor data and the telemetry data on the same plot\n",
    "plt.plot(sensor_feb_23['Timestamp'], np.ones(len(sensor_feb_23)), 'bo')\n",
    "plt.plot(telem_feb_23['Timestamp'], np.zeros(len(telem_feb_23)), 'ro')"
   ]
  },
  {
   "cell_type": "code",
   "execution_count": null,
   "metadata": {},
   "outputs": [],
   "source": []
  }
 ],
 "metadata": {
  "kernelspec": {
   "display_name": "Python 3.8.1 64-bit",
   "language": "python",
   "name": "python3"
  },
  "language_info": {
   "codemirror_mode": {
    "name": "ipython",
    "version": 3
   },
   "file_extension": ".py",
   "mimetype": "text/x-python",
   "name": "python",
   "nbconvert_exporter": "python",
   "pygments_lexer": "ipython3",
   "version": "3.8.1 (v3.8.1:1b293b6006, Dec 18 2019, 14:08:53) \n[Clang 6.0 (clang-600.0.57)]"
  },
  "orig_nbformat": 4,
  "vscode": {
   "interpreter": {
    "hash": "aee8b7b246df8f9039afb4144a1f6fd8d2ca17a180786b69acc140d282b71a49"
   }
  }
 },
 "nbformat": 4,
 "nbformat_minor": 2
}
