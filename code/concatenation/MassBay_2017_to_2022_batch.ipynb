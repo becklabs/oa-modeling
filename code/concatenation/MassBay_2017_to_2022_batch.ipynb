{
 "cells": [
  {
   "cell_type": "markdown",
   "metadata": {},
   "source": [
    "### Description\n",
    "This notebook contains all code used in the creation of the MassBay_2017_to_2022_batch.csv file"
   ]
  },
  {
   "cell_type": "code",
   "execution_count": 1,
   "metadata": {},
   "outputs": [],
   "source": [
    "import pandas as pd\n",
    "import os\n",
    "import matplotlib.pyplot as plt\n",
    "import dateparser\n",
    "from pytz import timezone\n",
    "import shutil\n",
    "import datetime"
   ]
  },
  {
   "cell_type": "code",
   "execution_count": 2,
   "metadata": {},
   "outputs": [],
   "source": [
    "data_dir = '../../data/'"
   ]
  },
  {
   "cell_type": "code",
   "execution_count": 3,
   "metadata": {},
   "outputs": [],
   "source": [
    "mwra_batch = pd.read_excel(data_dir + 'MassBay/concat/Copy of WN17x_to_WN22x_Event_Data.xlsx')"
   ]
  },
  {
   "cell_type": "markdown",
   "metadata": {},
   "source": [
    "### Add VAL_QUAL s for pH from the old MassBay concatenation file"
   ]
  },
  {
   "cell_type": "code",
   "execution_count": 4,
   "metadata": {},
   "outputs": [],
   "source": [
    "old_concat = pd.read_csv(data_dir + 'MassBay/concat/MassBay_2017_to_2022.csv')\n",
    "\n",
    "# Get all non-null \n",
    "concat_with_val_qual = old_concat[old_concat['VAL_QUAL'].notnull()]\n",
    "\n",
    "# Iterate over the rows with a val_qual defined\n",
    "for ind, row in concat_with_val_qual.iterrows():\n",
    "\n",
    "  val_qual = row['VAL_QUAL']\n",
    "\n",
    "  # Get comparator columns\n",
    "  lat = row['LATITUDE']\n",
    "  lon = row['LONGITUDE']\n",
    "  depth = row['DEPTH (m)']\n",
    "  cond = row['CONDTVY (mS/cm)']\n",
    "  \n",
    "  # Get matching row in mwra batch\n",
    "  match_row = mwra_batch[\n",
    "    (mwra_batch['LATITUDE'] == lat)\n",
    "  & (mwra_batch['LONGITUDE'] == lon)\n",
    "  & (mwra_batch['DEPTH (m)'] == depth)\n",
    "  & (mwra_batch['CONDTVY (mS/cm)'] == cond)]\n",
    "\n",
    "  if (len(match_row) != 1):\n",
    "    print(\"Couldn't find 1 to 1 match\")\n",
    "    break\n",
    "\n",
    "  match_ind = match_row.index.values[0]\n",
    "\n",
    "  # Add this val qual to the matching row\n",
    "  mwra_batch.loc[match_ind, 'VAL_QUAL'] = val_qual"
   ]
  },
  {
   "cell_type": "markdown",
   "metadata": {},
   "source": [
    "### Merge DISS_OXYGEN (mg/L), DO_RAW (mg/L); PCT_SAT (PCT), PCT_SAT_RAW (PCT)"
   ]
  },
  {
   "cell_type": "code",
   "execution_count": 5,
   "metadata": {},
   "outputs": [],
   "source": [
    "# Merge DISS_OXYGEN (mg/L)\tDO_RAW (mg/L) PCT_SAT (PCT)\tPCT_SAT_RAW (PCT)\n",
    "mwra_batch['DO_RAW (mg/L)'] = mwra_batch['DO_RAW (mg/L)'].fillna(mwra_batch['DISS_OXYGEN (mg/L)'])\n",
    "mwra_batch['PCT_SAT_RAW (PCT)'] = mwra_batch['PCT_SAT_RAW (PCT)'].fillna(mwra_batch['PCT_SAT (PCT)'])\n",
    "\n",
    "# Drop DISS_OXYGEN (mg/L), PCT_SAT_RAW (PCT)\n",
    "mwra_batch.drop(columns=[\n",
    "  'DISS_OXYGEN (mg/L)',\n",
    "   'PCT_SAT (PCT)',\n",
    "   'depth_code_sort',\n",
    "   'depth_SORT',\n",
    "   'Depths_Flipped'\n",
    "   ], inplace=True)"
   ]
  },
  {
   "cell_type": "markdown",
   "metadata": {},
   "source": [
    "### Add metadata reference + format timestamps"
   ]
  },
  {
   "cell_type": "code",
   "execution_count": 6,
   "metadata": {},
   "outputs": [],
   "source": [
    "# Add metadata column\n",
    "mwra_batch['Data Source'] = 'MassBay_2017_to_2022'\n",
    "\n",
    "# Add timezone\n",
    "eastern = timezone('US/Eastern')\n",
    "mwra_batch['PROF_DATE_TIME_LOCAL'] = [date.replace(microsecond=0).replace(tzinfo=eastern) for date in mwra_batch['PROF_DATE_TIME_LOCAL']]\n",
    "\n",
    "#Convert to excel parsable string\n",
    "mwra_batch['PROF_DATE_TIME_LOCAL'] = [date.strftime(\"%Y-%m-%d %H:%M:%S%z\") for date in mwra_batch['PROF_DATE_TIME_LOCAL']]"
   ]
  },
  {
   "cell_type": "markdown",
   "metadata": {},
   "source": [
    "### Export as csv"
   ]
  },
  {
   "cell_type": "code",
   "execution_count": 7,
   "metadata": {},
   "outputs": [],
   "source": [
    "mwra_batch.to_csv(data_dir + 'MassBay/concat/MassBay_2017_to_2022_batch.csv', index=False)"
   ]
  }
 ],
 "metadata": {
  "kernelspec": {
   "display_name": "Python 3",
   "language": "python",
   "name": "python3"
  },
  "language_info": {
   "codemirror_mode": {
    "name": "ipython",
    "version": 3
   },
   "file_extension": ".py",
   "mimetype": "text/x-python",
   "name": "python",
   "nbconvert_exporter": "python",
   "pygments_lexer": "ipython3",
   "version": "3.8.1 (v3.8.1:1b293b6006, Dec 18 2019, 14:08:53) \n[Clang 6.0 (clang-600.0.57)]"
  },
  "vscode": {
   "interpreter": {
    "hash": "aee8b7b246df8f9039afb4144a1f6fd8d2ca17a180786b69acc140d282b71a49"
   }
  }
 },
 "nbformat": 4,
 "nbformat_minor": 2
}
