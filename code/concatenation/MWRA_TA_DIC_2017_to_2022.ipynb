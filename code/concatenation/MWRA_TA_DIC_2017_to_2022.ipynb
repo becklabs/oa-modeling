{
 "cells": [
  {
   "cell_type": "markdown",
   "metadata": {},
   "source": [
    "### Description\n",
    "This notebook contains all code used in the creation of the MWRA_TA_DIC_2017_to_2022.csv file."
   ]
  },
  {
   "cell_type": "markdown",
   "metadata": {},
   "source": [
    "# Concatenating MWRA and SeaGrant data"
   ]
  },
  {
   "cell_type": "code",
   "execution_count": 1,
   "metadata": {},
   "outputs": [],
   "source": [
    "import pandas as pd\n",
    "import datetime\n",
    "import dateparser\n",
    "from pytz import timezone"
   ]
  },
  {
   "cell_type": "code",
   "execution_count": 2,
   "metadata": {},
   "outputs": [],
   "source": [
    "data_dir = '../../data/'"
   ]
  },
  {
   "cell_type": "code",
   "execution_count": 17,
   "metadata": {},
   "outputs": [],
   "source": [
    "mwra = pd.read_csv(data_dir + 'MassBay/concat/MassBay_2017_to_2022_upcast_update.csv',\n",
    "parse_dates = ['STAT_ARRIV'])\n",
    "seagrant = pd.read_csv(data_dir + 'SeaGrant-TA_DIC-MassBayData/concat/ToRies_Labprocessed2017_to_2021.csv',\n",
    "parse_dates = ['SampleDateTime'])"
   ]
  },
  {
   "cell_type": "markdown",
   "metadata": {},
   "source": [
    "#### Create column mappings"
   ]
  },
  {
   "cell_type": "code",
   "execution_count": 18,
   "metadata": {},
   "outputs": [],
   "source": [
    "# Define column mappings\n",
    "mwra_to_upcast_mwra = {\n",
    " 'PROF_DATE_TIME_LOCAL' : 'STAT_ARRIV',\n",
    " 'SAMPLE_DEPTH_CODE': 'DEPTH_MARKER',\n",
    " 'DEPTH (m)': 'PROFILE_DEPTH',\n",
    " 'CONDTVY (mS/cm)': 'CONDTVY',\n",
    "'DISS_OXYGEN (mg/L)' : 'DISS_OXYGEN',\n",
    "'FLUORESCENCE (ug/L)' : 'FLUORESCENCE',\n",
    "'FLU_RAW (ug/L)' : 'FLU_RAW',\n",
    "'PCT_SAT (PCT)' : 'PCT_SAT',\n",
    "'pH ()': 'PH',\n",
    " 'SAL (PSU)' : 'SAL',\n",
    "'SIGMA_T ()': 'SIGMA_T',\n",
    " 'TEMP (C)' : 'TEMP',\n",
    "'TRANS (m-1)' : 'TRANS'}\n",
    "\n",
    "mwra_to_seagrant = {'EVENT_ID' : 'SampleID',\n",
    " 'STAT_ID' : 'StationID',\n",
    " 'PROF_DATE_TIME_LOCAL' : 'SampleDateTime',\n",
    " 'LATITUDE' : 'Latitude',\n",
    " 'LONGITUDE' : 'Longitude',\n",
    " 'DEPTH (m)': 'Depth',\n",
    " 'CONDTVY (mS/cm)': 'Conductivity',\n",
    "'DISS_OXYGEN (mg/L)' : 'Dissolved Oxygen (Model 43)',\n",
    "'FLU_RAW (ug/L)' : 'Chla Fluor',\n",
    "'PCT_SAT (PCT)' : 'DO % Saturation',\n",
    "'pH ()': 'pH <2>',\n",
    " 'SAL (PSU)' : 'Salinity',\n",
    "'SIGMA_T ()': 'Sigma-T',\n",
    " 'TEMP (C)' : 'Temperature',\n",
    "'TRANS (m-1)' : 'Beam Attenuation'}"
   ]
  },
  {
   "cell_type": "code",
   "execution_count": 19,
   "metadata": {},
   "outputs": [],
   "source": [
    "# Apply column mappings\n",
    "for mwra_col in mwra_to_upcast_mwra:\n",
    "  mwra[mwra_col] = mwra[mwra_to_upcast_mwra[mwra_col]]\n",
    "  mwra.drop(mwra_to_upcast_mwra[mwra_col], axis=1, inplace=True)\n",
    "\n",
    "for mwra_col in mwra_to_seagrant:\n",
    "    seagrant[mwra_col] = seagrant[mwra_to_seagrant[mwra_col]]\n",
    "    seagrant.drop([mwra_to_seagrant[mwra_col]], axis=1, inplace=True)"
   ]
  },
  {
   "cell_type": "markdown",
   "metadata": {},
   "source": [
    "#### Format timestamps"
   ]
  },
  {
   "cell_type": "code",
   "execution_count": 20,
   "metadata": {},
   "outputs": [],
   "source": [
    "# Convert MWRA timestamps to datetime\n",
    "date_arr = mwra['PROF_DATE_TIME_LOCAL'].dt.to_pydatetime()\n",
    "eastern = timezone('US/Eastern')\n",
    "formatted = [date.replace(microsecond=0).replace(tzinfo=eastern) for date in date_arr]\n",
    "mwra[\"PROF_DATE_TIME_LOCAL\"] = pd.Series(formatted, dtype=\"object\")"
   ]
  },
  {
   "cell_type": "code",
   "execution_count": 21,
   "metadata": {},
   "outputs": [],
   "source": [
    "len(seagrant[seagrant['LONGITUDE'].isnull()])\n",
    "seagrant_copy = seagrant.copy()"
   ]
  },
  {
   "cell_type": "markdown",
   "metadata": {},
   "source": [
    "#### Left Join MWRA data onto Seagrant for easier concatenation"
   ]
  },
  {
   "cell_type": "code",
   "execution_count": 22,
   "metadata": {},
   "outputs": [
    {
     "name": "stdout",
     "output_type": "stream",
     "text": [
      "Matches: 318\n",
      "No Matches: 172\n",
      "Overlaps: 0\n",
      "WN Samples in TA_DIC: 318\n"
     ]
    }
   ],
   "source": [
    "# DIC TO UPCAST MATCHING\n",
    "# Add sample codes and dates to seagrant\n",
    "matches  = 0\n",
    "no_match = 0\n",
    "overlaps = 0\n",
    "for ind, row in seagrant.iterrows():\n",
    "  depth = row['DEPTH (m)']\n",
    "  lat = row['LATITUDE']\n",
    "  lon = row['LONGITUDE']\n",
    "\n",
    "  match_row = mwra[\n",
    "  (abs(mwra['DEPTH (m)'] - depth) <= 3)\n",
    "  & (abs(mwra['LATITUDE'] - lat) <= 0.000001)\n",
    "  & (abs(mwra['LONGITUDE'] - lon) <= 0.000001)\n",
    "  ]\n",
    "\n",
    "  if (len(match_row) == 1):\n",
    "    if pd.isnull(row['LATITUDE']):\n",
    "      print(row, match_row)\n",
    "    match_ind = match_row.index.values[0]\n",
    "    matches += 1\n",
    "    \n",
    "    for mwra_col in mwra.columns:\n",
    "      if not pd.isnull(mwra[mwra_col][match_ind]) and mwra_col != 'Data Source':\n",
    "        seagrant.loc[ind, mwra_col] = mwra.loc[match_ind, mwra_col]\n",
    "      \n",
    "  if (len(match_row) < 1):\n",
    "    no_match += 1\n",
    "  if (len(match_row) > 1):\n",
    "    overlaps += 1\n",
    "\n",
    "print(\"Matches:\", matches)\n",
    "print(\"No Matches:\", no_match)\n",
    "print(\"Overlaps:\", overlaps)\n",
    "\n",
    "wn_samples = []\n",
    "# Select rows that have the string \"WN\" in the EVENT_ID column\n",
    "for ind, row in seagrant.iterrows():\n",
    "  if type(row['EVENT_ID'])  == str:\n",
    "    if \"WN\" in row['EVENT_ID']:\n",
    "      wn_samples.append(row['EVENT_ID'])\n",
    "\n",
    "print(f'WN Samples in TA_DIC: {len(wn_samples)}')"
   ]
  },
  {
   "cell_type": "code",
   "execution_count": 27,
   "metadata": {},
   "outputs": [
    {
     "data": {
      "text/plain": [
       "437   NaN\n",
       "438   NaN\n",
       "439   NaN\n",
       "440   NaN\n",
       "441   NaN\n",
       "442   NaN\n",
       "443   NaN\n",
       "444   NaN\n",
       "445   NaN\n",
       "446   NaN\n",
       "447   NaN\n",
       "448   NaN\n",
       "449   NaN\n",
       "450   NaN\n",
       "451   NaN\n",
       "452   NaN\n",
       "480   NaN\n",
       "481   NaN\n",
       "482   NaN\n",
       "483   NaN\n",
       "484   NaN\n",
       "485   NaN\n",
       "486   NaN\n",
       "487   NaN\n",
       "488   NaN\n",
       "489   NaN\n",
       "Name: LATITUDE, dtype: float64"
      ]
     },
     "execution_count": 27,
     "metadata": {},
     "output_type": "execute_result"
    }
   ],
   "source": [
    "seagrant[(seagrant_copy['LATITUDE'].isnull())]['LATITUDE']"
   ]
  },
  {
   "cell_type": "markdown",
   "metadata": {},
   "source": [
    "#### Retrieve rows exclusive to MWRA file"
   ]
  },
  {
   "cell_type": "code",
   "execution_count": 123,
   "metadata": {},
   "outputs": [],
   "source": [
    "# Outer Join (Concatenate) MWRA and Seagrant\n",
    "combined = pd.concat([mwra, seagrant], ignore_index=True, sort=False)\n",
    "\n",
    "# Drop MWRA samples that exist in seagrant data (keep last because seagrant was concatenated last)\n",
    "no_dupes = combined.drop_duplicates(subset = ['LATITUDE', 'LONGITUDE', 'DEPTH (m)'], keep = 'last')\n",
    "\n",
    "# Isolate remaining MWRA samples \n",
    "mwra_no_dupes = no_dupes[no_dupes['Data Source'] == 'MWRA_MassBay_upcast_2017-202205']\n",
    "\n",
    "c"
   ]
  },
  {
   "cell_type": "markdown",
   "metadata": {},
   "source": [
    "#### Concatenate exclusively MWRA rows with Seagrant"
   ]
  },
  {
   "cell_type": "code",
   "execution_count": 124,
   "metadata": {},
   "outputs": [],
   "source": [
    "# Concatenate these rows with DIC data\n",
    "concat = pd.concat([mwra_no_dupes, seagrant], ignore_index=True, sort=False)"
   ]
  },
  {
   "cell_type": "markdown",
   "metadata": {},
   "source": [
    "#### Post-process concatenation"
   ]
  },
  {
   "cell_type": "code",
   "execution_count": 125,
   "metadata": {},
   "outputs": [],
   "source": [
    "# Strip station ID spaces\n",
    "for ind, row in concat.iterrows():\n",
    "    if type(row['STAT_ID']) == str:\n",
    "        concat.loc[ind, 'STAT_ID'] = row['STAT_ID'].strip(\" \")"
   ]
  },
  {
   "cell_type": "code",
   "execution_count": 126,
   "metadata": {},
   "outputs": [],
   "source": [
    "# Format timestamps\n",
    "concat.sort_values(by='PROF_DATE_TIME_LOCAL', inplace = True)\n",
    "\n",
    "concat[\"PROF_DATE_TIME_LOCAL\"] = [date.strftime(\"%-m/%d/%y %H:%M\") for date in concat[\"PROF_DATE_TIME_LOCAL\"]]"
   ]
  },
  {
   "cell_type": "code",
   "execution_count": 127,
   "metadata": {},
   "outputs": [],
   "source": [
    "# Send VAL_QUAL next to pH and Data Source column to the end of the dataframe\n",
    "cols = concat.columns.tolist()\n",
    "cols.remove('VAL_QUAL')\n",
    "cols.insert(cols.index('pH ()') + 1, 'VAL_QUAL')\n",
    "cols.remove('Data Source')\n",
    "cols.append('Data Source')\n",
    "concat = concat[cols]"
   ]
  },
  {
   "cell_type": "markdown",
   "metadata": {},
   "source": [
    "#### Export as csv"
   ]
  },
  {
   "cell_type": "code",
   "execution_count": 128,
   "metadata": {},
   "outputs": [],
   "source": [
    "concat.to_csv(data_dir + 'concat/MWRA_TA_DIC_2017_to_2022_test.csv', index = False)"
   ]
  },
  {
   "cell_type": "code",
   "execution_count": 129,
   "metadata": {},
   "outputs": [
    {
     "name": "stdout",
     "output_type": "stream",
     "text": [
      "Column 1: STUDY_ID is COLUMN DESCRIPTION\n",
      "Column 2: EVENT_ID is COLUMN DESCRIPTION\n",
      "Column 3: STAT_ID is COLUMN DESCRIPTION\n",
      "Column 4: ORDERED_DEPTH_CODE is COLUMN DESCRIPTION\n",
      "Column 5: SAMPLE_ID is COLUMN DESCRIPTION\n",
      "Column 6: SAMPLE_DEPTH_TOP is COLUMN DESCRIPTION\n",
      "Column 7: SAMPLE_DEPTH_BOTTOM is COLUMN DESCRIPTION\n",
      "Column 8: LATITUDE is COLUMN DESCRIPTION\n",
      "Column 9: LONGITUDE is COLUMN DESCRIPTION\n",
      "Column 10: VAL_QUAL is COLUMN DESCRIPTION\n",
      "Column 11: Data Source is COLUMN DESCRIPTION\n",
      "Column 12: PROF_DATE_TIME_LOCAL is COLUMN DESCRIPTION\n",
      "Column 13: SAMPLE_DEPTH_CODE is COLUMN DESCRIPTION\n",
      "Column 14: DEPTH (m) is COLUMN DESCRIPTION\n",
      "Column 15: CONDTVY (mS/cm) is COLUMN DESCRIPTION\n",
      "Column 16: DISS_OXYGEN (mg/L) is COLUMN DESCRIPTION\n",
      "Column 17: FLUORESCENCE (ug/L) is COLUMN DESCRIPTION\n",
      "Column 18: FLU_RAW (ug/L) is COLUMN DESCRIPTION\n",
      "Column 19: PCT_SAT (PCT) is COLUMN DESCRIPTION\n",
      "Column 20: pH () is COLUMN DESCRIPTION\n",
      "Column 21: SAL (PSU) is COLUMN DESCRIPTION\n",
      "Column 22: SIGMA_T () is COLUMN DESCRIPTION\n",
      "Column 23: TEMP (C) is COLUMN DESCRIPTION\n",
      "Column 24: TRANS (m-1) is COLUMN DESCRIPTION\n",
      "Column 25: Station_D is COLUMN DESCRIPTION\n",
      "Column 26: Air Irradiance is COLUMN DESCRIPTION\n",
      "Column 27: Water Irradiance is COLUMN DESCRIPTION\n",
      "Column 28: TA in (mmol/kgSW) is COLUMN DESCRIPTION\n",
      "Column 29: TCO2 in (mmol/kgSW) is COLUMN DESCRIPTION\n",
      "Column 30: t(oC) out is COLUMN DESCRIPTION\n",
      "Column 31: P (dbars) out is COLUMN DESCRIPTION\n",
      "Column 32: pH out is COLUMN DESCRIPTION\n",
      "Column 33: fCO2 out (matm) is COLUMN DESCRIPTION\n",
      "Column 34: pCO2 out (matm) is COLUMN DESCRIPTION\n",
      "Column 35: HCO3 out (mmol/kgSW) is COLUMN DESCRIPTION\n",
      "Column 36: CO3 out (mmol/kgSW) is COLUMN DESCRIPTION\n",
      "Column 37: CO2 out (mmol/kgSW) is COLUMN DESCRIPTION\n",
      "Column 38: B Alk out (mmol/kgSW) is COLUMN DESCRIPTION\n",
      "Column 39: OH out (mmol/kgSW) is COLUMN DESCRIPTION\n",
      "Column 40: P Alk out (mmol/kgSW) is COLUMN DESCRIPTION\n",
      "Column 41: Si Alk out (mmol/kgSW)  is COLUMN DESCRIPTION\n",
      "Column 42: Revelle out is COLUMN DESCRIPTION\n",
      "Column 43: WCa out is COLUMN DESCRIPTION\n",
      "Column 44: WAr out is COLUMN DESCRIPTION\n",
      "Column 45: xCO2 out (dry at 1 atm) (ppm) is COLUMN DESCRIPTION\n",
      "Column 46: Field Replicate is COLUMN DESCRIPTION\n",
      "Column 47: VINDTA Sample Name is COLUMN DESCRIPTION\n",
      "Column 48: Sampled Bottle Name is COLUMN DESCRIPTION\n",
      "Column 49: Sampling Date is COLUMN DESCRIPTION\n",
      "Column 50: Sampling Depth is COLUMN DESCRIPTION\n",
      "Column 51: Salinity - Carolina is COLUMN DESCRIPTION\n",
      "Column 52: Salinity - Ries  is COLUMN DESCRIPTION\n",
      "Column 53: Run T is COLUMN DESCRIPTION\n",
      "Column 54: Sampling T is COLUMN DESCRIPTION\n",
      "Column 55: Pressure is COLUMN DESCRIPTION\n",
      "Column 56: Comments is COLUMN DESCRIPTION\n"
     ]
    }
   ],
   "source": [
    "# Concat metadata file\n",
    "def print_column_descriptions(df):\n",
    "    ind = 1\n",
    "    for col in df.columns:\n",
    "        print(f'Column {ind}: {col} is COLUMN DESCRIPTION')\n",
    "        ind += 1\n",
    "print_column_descriptions(pd.read_csv(data_dir + 'concat/MWRA_TA_DIC_2017_to_2022.csv'))"
   ]
  }
 ],
 "metadata": {
  "kernelspec": {
   "display_name": "Python 3",
   "language": "python",
   "name": "python3"
  },
  "language_info": {
   "codemirror_mode": {
    "name": "ipython",
    "version": 3
   },
   "file_extension": ".py",
   "mimetype": "text/x-python",
   "name": "python",
   "nbconvert_exporter": "python",
   "pygments_lexer": "ipython3",
   "version": "3.8.9"
  },
  "vscode": {
   "interpreter": {
    "hash": "31f2aee4e71d21fbe5cf8b01ff0e069b9275f58929596ceb00d14d90e3e16cd6"
   }
  }
 },
 "nbformat": 4,
 "nbformat_minor": 2
}
