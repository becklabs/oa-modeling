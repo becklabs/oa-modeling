{
 "cells": [
  {
   "cell_type": "markdown",
   "metadata": {},
   "source": [
    "### Description\n",
    "This notebook contains all code used in the creation of the MassBay_2017_to_2022_upcast_update file."
   ]
  },
  {
   "cell_type": "code",
   "execution_count": 45,
   "metadata": {},
   "outputs": [],
   "source": [
    "import pandas as pd"
   ]
  },
  {
   "cell_type": "code",
   "execution_count": 46,
   "metadata": {},
   "outputs": [],
   "source": [
    "data_dir = '../../data/'"
   ]
  },
  {
   "cell_type": "code",
   "execution_count": 47,
   "metadata": {},
   "outputs": [],
   "source": [
    "mwra = pd.read_csv(data_dir +'MassBay/MWRA_MassBay_upcast_2017-202205.csv')"
   ]
  },
  {
   "cell_type": "markdown",
   "metadata": {},
   "source": [
    "#### Add Lat, Lon, pH, VAL_QUAL from MassBay_2017_to_2022_batch"
   ]
  },
  {
   "cell_type": "code",
   "execution_count": 48,
   "metadata": {},
   "outputs": [],
   "source": [
    "mwra_batch = pd.read_csv(data_dir +'MassBay/concat/MassBay_2017_to_2022_batch.csv')"
   ]
  },
  {
   "cell_type": "code",
   "execution_count": 49,
   "metadata": {},
   "outputs": [
    {
     "name": "stdout",
     "output_type": "stream",
     "text": [
      "Matches: 2658\n",
      "No Matches: 1152\n",
      "Overlaps: 0\n"
     ]
    }
   ],
   "source": [
    "matches = 0\n",
    "no_match = 0\n",
    "overlaps = 0\n",
    "rows = []\n",
    "\n",
    "for ind, row in mwra.iterrows():\n",
    "  cond = row['CONDTVY']\n",
    "  do2 = row['DISS_OXYGEN']\n",
    "  flu = row['FLU_RAW']\n",
    "  ph = row['PH']\n",
    "  depth = row['PROFILE_DEPTH']\n",
    "  sigma_t = row['SIGMA_T']\n",
    "  temp = row['TEMP']\n",
    "\n",
    "\n",
    "  # Get matching row in mwra batch\n",
    "  match_row = mwra_batch[\n",
    "  (abs(mwra_batch['DEPTH (m)'] - depth) <=  0.01)\n",
    "  & (abs(mwra_batch['TEMP (C)'] - temp) <= 0.01)\n",
    "  & (abs(mwra_batch['SIGMA_T ()'] - sigma_t) <= 0.01)\n",
    "  ]\n",
    "  \n",
    "\n",
    "  if (len(match_row) == 1):\n",
    "    matches += 1\n",
    "    rows.append(match_row.iloc[[0]])\n",
    "\n",
    "  if (len(match_row) < 1):\n",
    "    no_match += 1\n",
    "  if (len(match_row) > 1):\n",
    "    overlaps += 1\n",
    "\n",
    "\n",
    "  if len(match_row) == 1:\n",
    "    match_ind = match_row.index.values[0]\n",
    "\n",
    "    mwra.loc[ind, 'LATITUDE'] = mwra_batch['LATITUDE'][match_ind]\n",
    "    mwra.loc[ind, 'LONGITUDE'] = mwra_batch['LONGITUDE'][match_ind]\n",
    "    if pd.isnull(mwra.loc[ind, 'PH']):\n",
    "      mwra.loc[ind, 'PH'] = mwra_batch['pH ()'][match_ind]\n",
    "      mwra.loc[ind, 'VAL_QUAL'] = -1\n",
    "    \n",
    "print(\"Matches:\", matches)\n",
    "print(\"No Matches:\", no_match)\n",
    "print(\"Overlaps:\", overlaps)"
   ]
  },
  {
   "cell_type": "markdown",
   "metadata": {},
   "source": [
    "#### Add Station Target Lat/Lon from MWRA_MassBay_metadata if it is still missing"
   ]
  },
  {
   "cell_type": "code",
   "execution_count": 50,
   "metadata": {},
   "outputs": [],
   "source": [
    "station_defined = mwra[((mwra['STAT_ID'].notnull()) & (mwra['LATITUDE'].isnull())) & (mwra['LONGITUDE'].isnull())]"
   ]
  },
  {
   "cell_type": "code",
   "execution_count": 51,
   "metadata": {},
   "outputs": [],
   "source": [
    "# Station ID, Target latitude, Target longitude\n",
    "stations  = pd.read_csv(data_dir + 'MassBay/MWRA_MassBay_metadata.xlsx - Station locations.csv')\n",
    "stations.set_index('Station ID', inplace=True)"
   ]
  },
  {
   "cell_type": "code",
   "execution_count": 52,
   "metadata": {},
   "outputs": [
    {
     "name": "stdout",
     "output_type": "stream",
     "text": [
      "1152\n",
      "0\n"
     ]
    }
   ],
   "source": [
    "print(len(mwra[mwra['LATITUDE'].isnull()]))\n",
    "for ind, row in station_defined.iterrows():\n",
    "  station = row['STAT_ID']\n",
    "  if station in stations.index:\n",
    "    mwra.loc[ind, 'LATITUDE'] = stations.loc[station, 'Target latitude']\n",
    "    mwra.loc[ind, 'LONGITUDE'] = stations.loc[station, 'Target longitude']\n",
    "print(len(mwra[mwra['LATITUDE'].isnull()]))"
   ]
  },
  {
   "cell_type": "markdown",
   "metadata": {},
   "source": [
    "#### Add metadata reference"
   ]
  },
  {
   "cell_type": "code",
   "execution_count": 53,
   "metadata": {},
   "outputs": [],
   "source": [
    "# Save as csv\n",
    "mwra['Data Source'] = 'MWRA_MassBay_upcast_2017-202205'"
   ]
  },
  {
   "cell_type": "markdown",
   "metadata": {},
   "source": [
    "#### Export as csv"
   ]
  },
  {
   "cell_type": "code",
   "execution_count": 54,
   "metadata": {},
   "outputs": [],
   "source": [
    "mwra.to_csv(data_dir + 'MassBay/concat/MassBay_2017_to_2022_upcast_update.csv', index=False)"
   ]
  }
 ],
 "metadata": {
  "kernelspec": {
   "display_name": "Python 3.7.4 ('base')",
   "language": "python",
   "name": "python3"
  },
  "language_info": {
   "codemirror_mode": {
    "name": "ipython",
    "version": 3
   },
   "file_extension": ".py",
   "mimetype": "text/x-python",
   "name": "python",
   "nbconvert_exporter": "python",
   "pygments_lexer": "ipython3",
   "version": "3.7.4"
  },
  "vscode": {
   "interpreter": {
    "hash": "57a3f6118161b7d135ea1c6b699c8780404eb6f96fb23bc019da9d0f02edf87a"
   }
  }
 },
 "nbformat": 4,
 "nbformat_minor": 2
}
