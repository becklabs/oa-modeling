{
 "cells": [
  {
   "cell_type": "code",
   "execution_count": 67,
   "metadata": {},
   "outputs": [],
   "source": [
    "import pandas as pd\n",
    "import os\n",
    "import matplotlib.pyplot as plt\n",
    "import dateparser\n",
    "from pytz import timezone\n",
    "import shutil\n",
    "import datetime"
   ]
  },
  {
   "cell_type": "markdown",
   "metadata": {},
   "source": [
    "# SeaGrant-TA_DIC-MassBayData Concatentation"
   ]
  },
  {
   "cell_type": "code",
   "execution_count": 183,
   "metadata": {},
   "outputs": [],
   "source": [
    "sheet2017 = pd.read_excel('../data/SeaGrant-TA_DIC-MassBayData/ToRies_Labprocessed2017sharedSeaGlass.xlsx',\n",
    "                          sheet_name=None)\n",
    "\n",
    "sheet2018 = pd.read_excel('../data/SeaGrant-TA_DIC-MassBayData/ToRies_Labprocessed2018_sharedSeaGlass.xlsx',\n",
    "                          sheet_name=None)\n",
    "\n",
    "sheet2019 = pd.read_excel('../data/SeaGrant-TA_DIC-MassBayData/ToRies_Labprocessed2019_sharedSeaGlass.xlsx',\n",
    "                          sheet_name=None)"
   ]
  },
  {
   "cell_type": "code",
   "execution_count": 184,
   "metadata": {},
   "outputs": [],
   "source": [
    "data2017 = sheet2017['batch_all2017p']\n",
    "metadata2017 = sheet2017['readme']\n",
    "\n",
    "data2018 = sheet2018['batch_all2018p']\n",
    "metadata2018 = sheet2018['readme']\n",
    "\n",
    "data2019 = sheet2019['batch_all2019p']\n",
    "metadata2019 = sheet2019['readme2019']"
   ]
  },
  {
   "cell_type": "markdown",
   "metadata": {},
   "source": [
    "### Fix datetime issues 2017"
   ]
  },
  {
   "cell_type": "code",
   "execution_count": 185,
   "metadata": {},
   "outputs": [],
   "source": [
    "# Convert 2017 data to datetime\n",
    "for ind, row in data2017.iterrows():\n",
    "    date_val = row['SampleDateTime']\n",
    "    if type(date_val) == str:\n",
    "        date = dateparser.parse(date_val)\n",
    "        try:\n",
    "            x = date.strftime(\"%Y\")\n",
    "            if x != \"2017\":\n",
    "                print(date_str)\n",
    "        except:\n",
    "            print(date_str)\n",
    "        data2017.loc[ind, 'SampleDateTime'] = date"
   ]
  },
  {
   "cell_type": "markdown",
   "metadata": {},
   "source": [
    "### Fix datetime issues 2018"
   ]
  },
  {
   "cell_type": "code",
   "execution_count": 186,
   "metadata": {},
   "outputs": [],
   "source": [
    "# Reformat unrecognized strings (2018)\n",
    "for ind, row in data2018.iterrows():\n",
    "    if isinstance(row['SampleDateTime'], str):\n",
    "        s = row['SampleDateTime']\n",
    "        if (s[4] != \" \" and s[2] != \" \"):\n",
    "            new_string = s[0:4] + \" \" + s[4:6] + \" \" + s[6:]\n",
    "            data2018.loc[ind, 'SampleDateTime'] = new_string\n",
    "\n",
    "# Convert reformated strings to datetime (2018)\n",
    "for ind, row in data2018.iterrows():\n",
    "    val = row['SampleDateTime']\n",
    "    if isinstance(val, str):\n",
    "        date = dateparser.parse(val)\n",
    "        data2018.loc[ind, 'SampleDateTime'] = date"
   ]
  },
  {
   "cell_type": "markdown",
   "metadata": {},
   "source": [
    "### Fix datetime issues 2019"
   ]
  },
  {
   "cell_type": "code",
   "execution_count": 187,
   "metadata": {},
   "outputs": [],
   "source": [
    "#Convert 2019 data from pandas timestamp to datetime\n",
    "#data2019['SampleDateTime'] = [date.to_pydatetime() for date in data2019['SampleDateTime']]\n",
    "for ind, row in data2019.iterrows():\n",
    "    data2019.loc[ind, 'SampleDateTime'] = row['SampleDateTime'].to_pydatetime()"
   ]
  },
  {
   "cell_type": "markdown",
   "metadata": {},
   "source": [
    "### Validate columns and concatenate"
   ]
  },
  {
   "cell_type": "code",
   "execution_count": 188,
   "metadata": {},
   "outputs": [],
   "source": [
    "intersection = set(data2017.columns).intersection(set(data2018.columns), set(data2019.columns))\n",
    "union = set(data2017.columns).union(set(data2018.columns), set(data2019.columns))"
   ]
  },
  {
   "cell_type": "code",
   "execution_count": 189,
   "metadata": {},
   "outputs": [],
   "source": [
    "for col in union:\n",
    "    if col not in intersection:\n",
    "        print(col)"
   ]
  },
  {
   "cell_type": "code",
   "execution_count": 192,
   "metadata": {},
   "outputs": [],
   "source": [
    "concat = pd.concat([data2017, data2018, data2019], sort=False, ignore_index=True)\n",
    "# Drop microseconds and change timzeone to eastern\n",
    "eastern = timezone('US/Eastern')\n",
    "concat['SampleDateTime'] = [date.replace(microsecond=0).replace(tzinfo=eastern) for date in concat['SampleDateTime']]\n",
    "\n",
    "#Convert to excel parsable string\n",
    "concat['SampleDateTime'] = [date.strftime(\"%Y-%m-%d %H:%M:%S%z\") for date in concat['SampleDateTime']]"
   ]
  },
  {
   "cell_type": "code",
   "execution_count": 193,
   "metadata": {},
   "outputs": [],
   "source": [
    "concat.to_csv(\"../data/SeaGrant-TA_DIC-MassBayData/concat/ToRies_Labprocessed2017_to_2019.csv\", index=False)"
   ]
  },
  {
   "cell_type": "code",
   "execution_count": 82,
   "metadata": {},
   "outputs": [],
   "source": [
    "for date in concat['SampleDateTime']:\n",
    "    if type(date) == str:\n",
    "        print(date)"
   ]
  },
  {
   "cell_type": "markdown",
   "metadata": {},
   "source": [
    "#### Convert metadata to text files"
   ]
  },
  {
   "cell_type": "code",
   "execution_count": 92,
   "metadata": {},
   "outputs": [],
   "source": [
    "def df_to_txt(df, txt_file):\n",
    "    row_arr = []\n",
    "    for ind, row in df.iterrows():\n",
    "        cell_arr = []\n",
    "        for cell in row:\n",
    "            if str(cell) == 'nan':\n",
    "                cell_arr.append(\" \")\n",
    "            else:\n",
    "                cell_arr.append(str(cell))\n",
    "\n",
    "        row_arr.append(\" \".join(cell_arr))\n",
    "    out = \"\\n\".join(row_arr)\n",
    "    text_file = open(txt_file, \"w\")\n",
    "    n = text_file.write(out)\n",
    "    text_file.close()"
   ]
  },
  {
   "cell_type": "code",
   "execution_count": null,
   "metadata": {},
   "outputs": [],
   "source": [
    "df_to_txt(metadata2017,\n",
    "          '../data/SeaGrant-TA_DIC-MassBayData/concat/metadata/ToRies_Labprocessed2017sharedSeaGlass_metadata.txt')\n",
    "df_to_txt(metadata2018,\n",
    "          '../data/SeaGrant-TA_DIC-MassBayData/concat/metadata/ToRies_Labprocessed2018_sharedSeaGlass_metadata.txt')\n",
    "df_to_txt(metadata2019,\n",
    "         '../data/SeaGrant-TA_DIC-MassBayData/concat/metadata/ToRies_Labprocessed2019_sharedSeaGlass_metadata.txt')"
   ]
  },
  {
   "cell_type": "code",
   "execution_count": 93,
   "metadata": {},
   "outputs": [],
   "source": [
    "#metadata2017.to_csv('../data/SeaGrant-TA_DIC-MassBayData/concat/metadata/ToRies_Labprocessed2017sharedSeaGlass_metadata.csv', index=False)\n",
    "#metadata2018.to_csv('../data/SeaGrant-TA_DIC-MassBayData/concat/metadata/ToRies_Labprocessed2018_sharedSeaGlass_metadata.csv', index=False)\n",
    "#metadata2019.to_csv('../data/SeaGrant-TA_DIC-MassBayData/concat/metadata/ToRies_Labprocessed2019_sharedSeaGlass_metadata.csv', index=False)"
   ]
  },
  {
   "cell_type": "markdown",
   "metadata": {},
   "source": [
    "# MWRA/MassBay Data Concatenation"
   ]
  },
  {
   "cell_type": "markdown",
   "metadata": {},
   "source": [
    "### OldFormat Concatenation (2017 - 2019)"
   ]
  },
  {
   "cell_type": "code",
   "execution_count": 27,
   "metadata": {},
   "outputs": [],
   "source": [
    "data_dir = '../data/MassBay/OldFormat/'"
   ]
  },
  {
   "cell_type": "code",
   "execution_count": 28,
   "metadata": {},
   "outputs": [
    {
     "name": "stdout",
     "output_type": "stream",
     "text": [
      "ERROR: WN172 event dataMarch2017.xlsx has 4 sheets\n",
      "ERROR: WN173 sensor dataApril2017.xlsx has 3 sheets\n",
      "ERROR: WN177 Event dataAug2017.xlsx has 2 sheets\n"
     ]
    }
   ],
   "source": [
    "blacklist = []\n",
    "# check that each excel file in the data_dir has only one sheet, add to blacklist if not\n",
    "for file in os.listdir(data_dir):\n",
    "    if file.endswith('.xlsx'):\n",
    "        df = pd.read_excel(data_dir + file, sheet_name=None)\n",
    "        if len(df) != 1:\n",
    "            print('ERROR:', file, 'has', len(df), 'sheets')\n",
    "            blacklist.append(file)"
   ]
  },
  {
   "cell_type": "code",
   "execution_count": 29,
   "metadata": {},
   "outputs": [],
   "source": [
    "# import the first sheet as a dataframe from non-blacklisted every excel file in data_dir\n",
    "csvs = {}\n",
    "files = os.listdir(data_dir)\n",
    "for file in files:\n",
    "    if file.endswith('.xlsx') and file not in blacklist:\n",
    "        df = pd.read_excel(data_dir + file, sheet_name=0)\n",
    "        csvs[file] = df"
   ]
  },
  {
   "cell_type": "code",
   "execution_count": 30,
   "metadata": {},
   "outputs": [],
   "source": [
    "# Handle Special case: April2017\n",
    "april2017 = 'WN173 sensor dataApril2017.xlsx'\n",
    "df = pd.read_excel(data_dir + april2017, sheet_name=0)\n",
    "csvs[april2017] = df"
   ]
  },
  {
   "cell_type": "code",
   "execution_count": 31,
   "metadata": {},
   "outputs": [],
   "source": [
    "# Handle Special case: March2017\n",
    "march2017 = 'WN172 event dataMarch2017.xlsx'\n",
    "df = pd.read_excel(data_dir + march2017, sheet_name=0)\n",
    "csvs[march2017] = df"
   ]
  },
  {
   "cell_type": "code",
   "execution_count": 32,
   "metadata": {},
   "outputs": [],
   "source": [
    "# Handle Special case: Aug2017\n",
    "aug2017 = 'WN177 Event dataAug2017.xlsx'\n",
    "df = pd.read_excel(data_dir + aug2017, sheet_name=0)\n",
    "csvs[aug2017] = df"
   ]
  },
  {
   "cell_type": "code",
   "execution_count": 33,
   "metadata": {},
   "outputs": [],
   "source": [
    "# Correct insignificant column inconsistency in June 2018 data\n",
    "june2018 = 'WN185 Event dataJune2018.xlsx'\n",
    "cols_to_drop = []\n",
    "columns = set(list(csvs.values())[0].columns)\n",
    "for col in csvs[june2018].columns:\n",
    "    if col not in columns:\n",
    "        cols_to_drop.append(col)\n",
    "csvs[june2018] = csvs[june2018].drop(columns=cols_to_drop)"
   ]
  },
  {
   "cell_type": "code",
   "execution_count": 34,
   "metadata": {},
   "outputs": [
    {
     "name": "stdout",
     "output_type": "stream",
     "text": [
      "{'Longitude', 'Beam Attenuation', 'Chla Fluor', 'Dissolved Oxygen (Model 43)', 'pH <2>', 'Water Irradiance', 'Depth', 'Temperature', 'Salinity', 'DO % Saturation', 'Sigma-T', 'Conductivity', 'StationID', 'SampleID', 'Latitude', 'Air Irradiance', 'SampleDateTime'}\n"
     ]
    }
   ],
   "source": [
    "# check that all elements of csvs have the same columns\n",
    "columns = set(list(csvs.values())[0].columns)\n",
    "print(columns)\n",
    "for item in csvs.items():\n",
    "  if columns != set(item[1].columns):\n",
    "        print(\"ERROR: Column inconsistency in :\" +item[0]) # error  if not all elements of csvs have the same columns (should be the same)\n",
    "        break"
   ]
  },
  {
   "cell_type": "code",
   "execution_count": 35,
   "metadata": {},
   "outputs": [],
   "source": [
    "# Save old format csvs\n",
    "for csv in csvs:\n",
    "    csvs[csv].to_csv(data_dir+'csv/'+csv+\".csv\", index = False)"
   ]
  },
  {
   "cell_type": "code",
   "execution_count": 36,
   "metadata": {},
   "outputs": [],
   "source": [
    "# concatenate all csvs into one dataframe and save as csv\n",
    "csv_list = list(csvs.values())\n",
    "df = pd.concat(csv_list, ignore_index=True)\n",
    "\n",
    "#add data source column\n",
    "#df['Data Source'] = 'MassBay_2017_to_2019_CONCAT'\n",
    "\n",
    "#df.to_csv('../data/MassBay/OldFormat/concat/MassBay_2017_to_2019_CONCAT.csv', index = False)"
   ]
  },
  {
   "cell_type": "code",
   "execution_count": 60,
   "metadata": {},
   "outputs": [],
   "source": [
    "# Create metadata file for Old Format Concatenation\n",
    "df = pd.DataFrame()\n",
    "df.to_csv('../data/MassBay/OldFormat/concat/metadata/MassBay_2017_to_2019_CONCAT_metadata.csv', index = False)"
   ]
  },
  {
   "cell_type": "code",
   "execution_count": 37,
   "metadata": {},
   "outputs": [
    {
     "name": "stdout",
     "output_type": "stream",
     "text": [
      "AF4 {'2017': 0, '2018': 0, '2019': 4}\n",
      "N04 {'2017': 40, '2018': 50, '2019': 45}\n",
      "N10 {'2017': 0, '2018': 0, '2019': 4}\n",
      "F06 {'2017': 40, '2018': 50, '2019': 45}\n",
      "F13 {'2017': 40, '2018': 50, '2019': 45}\n",
      "N07 {'2017': 40, '2018': 50, '2019': 45}\n",
      "F23 {'2017': 40, '2018': 50, '2019': 45}\n",
      "N21 {'2017': 40, '2018': 50, '2019': 45}\n",
      "F15 {'2017': 40, '2018': 50, '2019': 45}\n",
      "N01 {'2017': 40, '2018': 50, '2019': 45}\n",
      "N18 {'2017': 40, '2018': 50, '2019': 45}\n",
      "F22 {'2017': 40, '2018': 50, '2019': 45}\n",
      "F10 {'2017': 40, '2018': 50, '2019': 45}\n",
      "1493\n"
     ]
    }
   ],
   "source": [
    "df['StationID'] = [stat.strip(\" \") for stat in df['StationID']]\n",
    "\n",
    "all_stations = list(set(df['StationID']))\n",
    "                    \n",
    "                                   \n",
    "x = 0\n",
    "for station in all_stations:\n",
    "    years = {'2017': 0, '2018': 0, '2019': 0,}\n",
    "    for ind, row in df.iterrows():\n",
    "        if row['StationID'] == station:\n",
    "            years[row['SampleDateTime'].strftime(\"%Y\")] += 1\n",
    "    x += sum(list(years.values()))\n",
    "    print(station, years)\n",
    "print(x)"
   ]
  },
  {
   "cell_type": "markdown",
   "metadata": {},
   "source": [
    "### New Format Concatenation (2020-)"
   ]
  },
  {
   "cell_type": "markdown",
   "metadata": {},
   "source": [
    "#### Unit validation (not final concatenation)"
   ]
  },
  {
   "cell_type": "code",
   "execution_count": 195,
   "metadata": {},
   "outputs": [],
   "source": [
    "data_dir = '../data/MassBay/NewFormat/'"
   ]
  },
  {
   "cell_type": "code",
   "execution_count": 196,
   "metadata": {},
   "outputs": [],
   "source": [
    "blacklist = []\n",
    "# check that each excel file in the data_dir has only one sheet, add to blacklist if not\n",
    "for file in os.listdir(data_dir):\n",
    "    if file.endswith('.xlsx'):\n",
    "        df = pd.read_excel(data_dir + file, sheet_name=None)\n",
    "        if len(df) != 1:\n",
    "            print('ERROR:', file, 'has', len(df), 'sheets')\n",
    "            blacklist.append(file)"
   ]
  },
  {
   "cell_type": "code",
   "execution_count": 197,
   "metadata": {},
   "outputs": [],
   "source": [
    "# import the first sheet as a dataframe from non-blacklisted every excel file in data_dir\n",
    "newcsvs = {}\n",
    "files = os.listdir(data_dir)\n",
    "for file in files:\n",
    "    if file.endswith('.xlsx') and file not in blacklist:\n",
    "        df = pd.read_excel(data_dir + file, sheet_name=0)\n",
    "        newcsvs[file] = df"
   ]
  },
  {
   "cell_type": "code",
   "execution_count": 198,
   "metadata": {},
   "outputs": [
    {
     "name": "stdout",
     "output_type": "stream",
     "text": [
      "{'DISS_OXYGEN (mg/L)', 'PROF_DATE_TIME_LOCAL', 'DEPTH (m)', 'EVENT_ID', 'STAT_ID', 'SIGMA_T ()', 'PCT_SAT (PCT)', 'TEMP (C)', 'LATITUDE', 'LONGITUDE', 'SAMPLE_DEPTH_CODE', 'TRANS (m-1)', 'pH ()', 'SAL (PSU)', 'CONDTVY (mS/cm)', 'FLU_RAW (ug/L)'}\n"
     ]
    }
   ],
   "source": [
    "# 2020 -> 2021\n",
    "#DO_RAW (mg/L) -> DISS_OXYGEN (mg/L)\n",
    "\n",
    "# PCT_SAT_RAW (PCT) -> PCT_SAT (PCT) \n",
    "for csv in newcsvs:\n",
    "    if 'DO_RAW (mg/L)' in newcsvs[csv].columns:\n",
    "        newcsvs[csv]['DISS_OXYGEN (mg/L)'] = newcsvs[csv]['DO_RAW (mg/L)']\n",
    "    if 'PCT_SAT_RAW (PCT)' in newcsvs[csv].columns:\n",
    "        newcsvs[csv]['PCT_SAT (PCT)'] = newcsvs[csv]['PCT_SAT_RAW (PCT)']\n",
    "        \n",
    "# Check that important columns are the same\n",
    "intersection = set(list(newcsvs.values())[0].columns)\n",
    "for csv in newcsvs:\n",
    "    intersection = intersection.intersection(set(newcsvs[csv].columns))\n",
    "print(intersection)"
   ]
  },
  {
   "cell_type": "code",
   "execution_count": 92,
   "metadata": {},
   "outputs": [],
   "source": [
    "# new to old column mapping\n",
    "\n",
    "# DISS_OXYGEN (mg/L) : Dissolved Oxygen (Model 43)\n",
    "# TRANS (m-1) : Beam Attenuation\n",
    "# FLU_RAW (ug/L) : Chla Fluor\n",
    "# CONDTVY (mS/cm): Conductivity\n",
    "# SIGMA_T (): Sigma-T\n",
    "# SAL (PSU) : Salinity"
   ]
  },
  {
   "cell_type": "code",
   "execution_count": 212,
   "metadata": {},
   "outputs": [],
   "source": [
    "new_indices = [i for i in range(len(newdf))]\n",
    "old_indices = [i for i in range(len(df))]"
   ]
  },
  {
   "cell_type": "markdown",
   "metadata": {},
   "source": [
    "##### Note: Run old data concatenation cells to define 'df'"
   ]
  },
  {
   "cell_type": "code",
   "execution_count": 220,
   "metadata": {},
   "outputs": [],
   "source": [
    "# Disolved o2\n",
    "#plt.scatter(new_indices, newdf['DISS_OXYGEN (mg/L)'], label ='DISS_OXYGEN (mg/L)' )\n",
    "#plt.scatter(old_indices, df['Dissolved Oxygen (Model 43)'], label = 'Dissolved Oxygen (Model 43)')\n",
    "#plt.legend()"
   ]
  },
  {
   "cell_type": "code",
   "execution_count": 221,
   "metadata": {},
   "outputs": [],
   "source": [
    "# Beam attenuation/ Trans m - 1\n",
    "#plt.scatter(new_indices, newdf['TRANS (m-1)'], label = 'TRANS (m-1)')\n",
    "#plt.scatter(old_indices, df['Beam Attenuation'], label = 'Beam Attenuation')\n",
    "#plt.legend()"
   ]
  },
  {
   "cell_type": "code",
   "execution_count": 222,
   "metadata": {},
   "outputs": [],
   "source": [
    "# FLU_RAW (ug/L) : Chla Fluor\n",
    "#plt.scatter(new_indices, newdf['FLU_RAW (ug/L)'], label ='FLU_RAW (ug/L)' )\n",
    "#plt.scatter(old_indices, df['Chla Fluor'], label ='Chla Fluor')\n",
    "#plt.legend()"
   ]
  },
  {
   "cell_type": "code",
   "execution_count": 223,
   "metadata": {},
   "outputs": [],
   "source": [
    "# CONDTVY (mS/cm): Conductivity\n",
    "#plt.scatter(new_indices, newdf['CONDTVY (mS/cm)'], label = 'CONDTVY (mS/cm)')\n",
    "#plt.scatter(old_indices, df['Conductivity'], label = 'Conductivity')\n",
    "#plt.legend()"
   ]
  },
  {
   "cell_type": "code",
   "execution_count": 224,
   "metadata": {},
   "outputs": [],
   "source": [
    "# SIGMA_T (): Sigma-T\n",
    "#plt.scatter(new_indices, newdf['SIGMA_T ()'], label = 'SIGMA_T ()')\n",
    "#plt.scatter(old_indices, df['Sigma-T'], label = 'Sigma-T')\n",
    "#plt.legend()"
   ]
  },
  {
   "cell_type": "code",
   "execution_count": 225,
   "metadata": {},
   "outputs": [],
   "source": [
    "# SAL (PSU) : Salinity\n",
    "#plt.scatter(new_indices, newdf['SAL (PSU)'], label = 'SAL (PSU)')\n",
    "#plt.scatter(old_indices, df['Salinity'], label = 'Salinity')\n",
    "#plt.legend()"
   ]
  },
  {
   "cell_type": "code",
   "execution_count": 226,
   "metadata": {},
   "outputs": [],
   "source": [
    "# Temperature\n",
    "#plt.scatter(new_indices, newdf['TEMP (C)'])\n",
    "#plt.scatter(old_indices, df['Temperature'])"
   ]
  },
  {
   "cell_type": "markdown",
   "metadata": {},
   "source": [
    "Determined that units are the same from scatterplots"
   ]
  },
  {
   "cell_type": "markdown",
   "metadata": {},
   "source": [
    "### Final concatenation of NewFormat"
   ]
  },
  {
   "cell_type": "code",
   "execution_count": 2,
   "metadata": {},
   "outputs": [],
   "source": [
    "new_data_dir = '../data/MassBay/NewFormat/'"
   ]
  },
  {
   "cell_type": "code",
   "execution_count": 3,
   "metadata": {},
   "outputs": [],
   "source": [
    "blacklist = []\n",
    "# check that each excel file in the data_dir has only one sheet, add to blacklist if not\n",
    "for file in os.listdir(new_data_dir):\n",
    "    if file.endswith('.xlsx'):\n",
    "        df = pd.read_excel(new_data_dir + file, sheet_name=None)\n",
    "        if len(df) != 1:\n",
    "            print('ERROR:', file, 'has', len(df), 'sheets')\n",
    "            blacklist.append(file)"
   ]
  },
  {
   "cell_type": "code",
   "execution_count": 5,
   "metadata": {},
   "outputs": [],
   "source": [
    "# import the first sheet as a dataframe from non-blacklisted every excel file in data_dir\n",
    "newcsvs = {}\n",
    "files = os.listdir(new_data_dir)\n",
    "for file in files:\n",
    "    if file.endswith('.xlsx') and file not in blacklist:\n",
    "        df = pd.read_excel(new_data_dir + file, sheet_name=0)\n",
    "        newcsvs[file] = df"
   ]
  },
  {
   "cell_type": "markdown",
   "metadata": {},
   "source": [
    "### Graph to validate Dissolved Oxygen and Percent Saturation Metrics across years"
   ]
  },
  {
   "cell_type": "code",
   "execution_count": 6,
   "metadata": {},
   "outputs": [
    {
     "name": "stderr",
     "output_type": "stream",
     "text": [
      "/Users/becklabash/opt/anaconda3/lib/python3.7/site-packages/dateparser/date_parser.py:35: PytzUsageWarning: The localize method is no longer necessary, as this time zone supports the fold attribute (PEP 495). For more details on migrating to a PEP 495-compliant implementation, see https://pytz-deprecation-shim.readthedocs.io/en/latest/migration.html\n",
      "  date_obj = stz.localize(date_obj)\n"
     ]
    }
   ],
   "source": [
    "# Create seperate lists of data withDO_RAW  DISS_OXYGEN columns\n",
    "raw = []\n",
    "non_raw = []\n",
    "\n",
    "for csv in newcsvs:\n",
    "    if 'DO_RAW (mg/L)' in newcsvs[csv].columns:\n",
    "        raw.append(newcsvs[csv])\n",
    "    else:\n",
    "        non_raw.append(newcsvs[csv])\n",
    "\n",
    "# Seperate concatenations of DO_RAW vs DISS_OXYGEN columns\n",
    "raw_df = pd.concat(raw, ignore_index = True, sort = False)\n",
    "non_raw_df = pd.concat(non_raw, ignore_index = True, sort = False)\n",
    "\n",
    "# Remove space from station col\n",
    "raw_df['STAT_ID'] = [stat.strip(\" \") for stat in raw_df['STAT_ID']]\n",
    "non_raw_df['STAT_ID'] = [stat.strip(\" \") for stat in non_raw_df['STAT_ID']]\n",
    "\n",
    "# Get stations in common\n",
    "unique_stations = list(set(raw_df['STAT_ID']).intersection(set(non_raw_df['STAT_ID'])))\n",
    "all_stations = list(set(raw_df['STAT_ID']).union(set(non_raw_df['STAT_ID'])))\n",
    "\n",
    "# Convert timestamp to datetime if string\n",
    "for ind, row in non_raw_df.iterrows():\n",
    "    date_str = row['PROF_DATE_TIME_LOCAL']\n",
    "    if type(date_str) == str:\n",
    "        non_raw_df.loc[ind, 'PROF_DATE_TIME_LOCAL'] = dateparser.parse(date_str)\n",
    "\n",
    "# \n",
    "# Build yearly data:\n",
    "y2020 = raw_df\n",
    "y2021 = pd.DataFrame(columns = non_raw_df.columns)\n",
    "y2022 = pd.DataFrame(columns = non_raw_df.columns)\n",
    "\n",
    "for ind, row in non_raw_df.iterrows():\n",
    "    if row['PROF_DATE_TIME_LOCAL'].strftime(\"%Y\") == \"2021\":\n",
    "        y2021.loc[len(y2021.index)] = row\n",
    "    else:\n",
    "        y2022.loc[len(y2022.index)] = row"
   ]
  },
  {
   "cell_type": "code",
   "execution_count": 7,
   "metadata": {},
   "outputs": [],
   "source": [
    "# Get averge DO metric, depth for each common station between the two datasets\n",
    "raw_avg = []\n",
    "raw_avg_pct = []\n",
    "raw_depth_avg = []\n",
    "\n",
    "non_raw_avg = []\n",
    "non_raw_avg_pct = []\n",
    "non_raw_depth_avg = []\n",
    "\n",
    "y2021_avg = []\n",
    "y2021_avg_depth = []\n",
    "\n",
    "y2022_avg = []\n",
    "y2022_avg_depth = []\n",
    "\n",
    "for station in unique_stations:\n",
    "    raw_data = raw_df[raw_df['STAT_ID'] == station]\n",
    "    non_raw_data = non_raw_df[non_raw_df['STAT_ID'] == station]\n",
    "    y2021_data = y2021[y2021['STAT_ID'] == station]\n",
    "    y2022_data = y2022[y2022['STAT_ID'] == station]\n",
    "    \n",
    "    raw_avg.append(raw_data['DO_RAW (mg/L)'].mean())\n",
    "    raw_avg_pct.append(raw_data['PCT_SAT_RAW (PCT)'].mean())\n",
    "    raw_depth_avg.append(raw_data['DEPTH (m)'].mean())\n",
    "    \n",
    "    non_raw_avg.append(non_raw_data['DISS_OXYGEN (mg/L)'].mean())\n",
    "    non_raw_avg_pct.append(non_raw_data['PCT_SAT (PCT)'].mean())\n",
    "    non_raw_depth_avg.append(non_raw_data['DEPTH (m)'].mean())\n",
    "    \n",
    "    y2021_avg.append(y2021_data['DISS_OXYGEN (mg/L)'].mean())\n",
    "    y2021_avg_depth.append(y2021_data['DEPTH (m)'].mean())\n",
    "    \n",
    "    y2022_avg.append(y2022_data['DISS_OXYGEN (mg/L)'].mean())\n",
    "    y2022_avg_depth.append(y2022_data['DEPTH (m)'].mean())"
   ]
  },
  {
   "cell_type": "code",
   "execution_count": 81,
   "metadata": {
    "scrolled": true
   },
   "outputs": [
    {
     "data": {
      "text/plain": [
       "<matplotlib.legend.Legend at 0x7fd477882190>"
      ]
     },
     "execution_count": 81,
     "metadata": {},
     "output_type": "execute_result"
    },
    {
     "data": {
      "image/png": "[encoded data removed]",
      "text/plain": [
       "<Figure size 432x288 with 1 Axes>"
      ]
     },
     "metadata": {
      "needs_background": "light"
     },
     "output_type": "display_data"
    }
   ],
   "source": [
    "# At one station\n",
    "raw_data_f15 = raw_df[raw_df['STAT_ID'] == 'F15']\n",
    "non_raw_data_f15 = non_raw_df[non_raw_df['STAT_ID'] == 'F15']\n",
    "# Temperature\n",
    "plt.scatter(raw_data_f15['DEPTH (m)'], raw_data_f15['DO_RAW (mg/L)'], label = 'DO_RAW (mg/L)')\n",
    "plt.scatter(non_raw_data_f15['DEPTH (m)'], non_raw_data_f15['DISS_OXYGEN (mg/L)'], label = \"DISS_OXYGEN (mg/L)\")\n",
    "plt.xlabel(\"Depth (m)\")\n",
    "plt.ylabel(\"DO metric\")\n",
    "plt.title(\"DO metrics vs Depth at Station F15\")\n",
    "plt.legend()"
   ]
  },
  {
   "cell_type": "code",
   "execution_count": 15,
   "metadata": {},
   "outputs": [
    {
     "data": {
      "text/plain": [
       "<matplotlib.legend.Legend at 0x7fb535f1e950>"
      ]
     },
     "execution_count": 15,
     "metadata": {},
     "output_type": "execute_result"
    },
    {
     "data": {
      "image/png": "[encoded data removed]",
      "text/plain": [
       "<Figure size 432x288 with 1 Axes>"
      ]
     },
     "metadata": {
      "needs_background": "light"
     },
     "output_type": "display_data"
    }
   ],
   "source": [
    "# At one station yearly\n",
    "y2020_f15 = y2020[y2020['STAT_ID'] == 'F15']\n",
    "y2021_f15 = y2021[y2021['STAT_ID'] == 'F15']\n",
    "y2022_f15 = y2022[y2022['STAT_ID'] == 'F15']\n",
    "\n",
    "plt.scatter(y2020_f15['DEPTH (m)'], y2020_f15['DO_RAW (mg/L)'], label = '2020')\n",
    "plt.scatter(y2021_f15['DEPTH (m)'], y2021_f15['DISS_OXYGEN (mg/L)'], label = \"2021\")\n",
    "plt.scatter(y2022_f15['DEPTH (m)'], y2022_f15['DISS_OXYGEN (mg/L)'], label = \"2022\")\n",
    "plt.xlabel(\"Depth (m)\")\n",
    "plt.ylabel(\"DO metric\")\n",
    "plt.title(\"DO metrics vs Depth at Station F15\")\n",
    "plt.legend()"
   ]
  },
  {
   "cell_type": "code",
   "execution_count": 82,
   "metadata": {},
   "outputs": [
    {
     "data": {
      "text/plain": [
       "<matplotlib.legend.Legend at 0x7fd47869eb50>"
      ]
     },
     "execution_count": 82,
     "metadata": {},
     "output_type": "execute_result"
    },
    {
     "data": {
      "image/png": "[encoded data removed]",
      "text/plain": [
       "<Figure size 432x288 with 1 Axes>"
      ]
     },
     "metadata": {
      "needs_background": "light"
     },
     "output_type": "display_data"
    }
   ],
   "source": [
    "# Average across all common stations, by year\n",
    "plt.scatter(raw_depth_avg, raw_avg, label = 'DO_RAW (mg/L)')\n",
    "plt.scatter(non_raw_depth_avg, non_raw_avg, label = \"DISS_OXYGEN (mg/L)\")\n",
    "plt.xlabel(\"Average Depth (m)\")\n",
    "plt.ylabel(\"Average DO Metric Value\")\n",
    "plt.title(\"Avg DO metric vs Avg Depth at each station\")\n",
    "plt.legend()"
   ]
  },
  {
   "cell_type": "code",
   "execution_count": 19,
   "metadata": {},
   "outputs": [
    {
     "data": {
      "text/plain": [
       "<matplotlib.legend.Legend at 0x7fb5368df910>"
      ]
     },
     "execution_count": 19,
     "metadata": {},
     "output_type": "execute_result"
    },
    {
     "data": {
      "image/png": "[encoded data removed]",
      "text/plain": [
       "<Figure size 432x288 with 1 Axes>"
      ]
     },
     "metadata": {
      "needs_background": "light"
     },
     "output_type": "display_data"
    }
   ],
   "source": [
    "# Average across all common stations, by year\n",
    "plt.scatter(raw_depth_avg, raw_avg, label = '2020')\n",
    "plt.scatter(y2021_avg_depth, y2021_avg, label = \"2021\")\n",
    "plt.scatter(y2022_avg_depth, y2022_avg, label = \"2022\")\n",
    "plt.xlabel(\"Average Depth (m)\")\n",
    "plt.ylabel(\"Average DO Metric Value\")\n",
    "plt.title(\"Avg DO metric vs Avg Depth at each station\")\n",
    "plt.legend()"
   ]
  },
  {
   "cell_type": "code",
   "execution_count": 83,
   "metadata": {},
   "outputs": [
    {
     "data": {
      "text/plain": [
       "<matplotlib.legend.Legend at 0x7fd4781a1810>"
      ]
     },
     "execution_count": 83,
     "metadata": {},
     "output_type": "execute_result"
    },
    {
     "data": {
      "image/png": "[encoded data removed]",
      "text/plain": [
       "<Figure size 432x288 with 1 Axes>"
      ]
     },
     "metadata": {
      "needs_background": "light"
     },
     "output_type": "display_data"
    }
   ],
   "source": [
    "# Average across all common stationas\n",
    "plt.scatter(raw_depth_avg, raw_avg_pct, label = 'PCT_SAT_RAW (PCT)')\n",
    "plt.scatter(non_raw_depth_avg, non_raw_avg_pct, label = \"PCT_SAT (PCT)\")\n",
    "plt.xlabel(\"Average Depth (m)\")\n",
    "plt.ylabel(\"Average PCT SAT Metric Value\")\n",
    "plt.title(\"Avg PCT SAT metric vs Avg Depth at each station\")\n",
    "plt.legend()"
   ]
  },
  {
   "cell_type": "code",
   "execution_count": 8,
   "metadata": {},
   "outputs": [],
   "source": [
    "# Correct column mapping inconsistencies in new format\n",
    "# Drop inconsistent columns\n",
    "for csv in newcsvs:\n",
    "    if 'DO_RAW (mg/L)' in newcsvs[csv].columns:\n",
    "        newcsvs[csv]['DISS_OXYGEN (mg/L)'] = newcsvs[csv]['DO_RAW (mg/L)']\n",
    "        newcsvs[csv] = newcsvs[csv].drop(columns = ['DO_RAW (mg/L)'])\n",
    "    if 'PCT_SAT_RAW (PCT)' in newcsvs[csv].columns:\n",
    "        newcsvs[csv]['PCT_SAT (PCT)'] = newcsvs[csv]['PCT_SAT_RAW (PCT)']\n",
    "        newcsvs[csv] = newcsvs[csv].drop(columns = ['PCT_SAT_RAW (PCT)'])\n",
    "        \n",
    "# Remove extraneous columns in March 2022 data\n",
    "newcsvs[\"WN222_Event_dataMar2022.xlsx\"] = newcsvs['WN222_Event_dataMar2022.xlsx'].drop(columns = ['Unnamed: 16',\n",
    "       'Unnamed: 17', 'Unnamed: 18', 'Unnamed: 19', 'Unnamed: 20',\n",
    "       'Unnamed: 21', 'Unnamed: 22', 'Unnamed: 23', 'Unnamed: 24',\n",
    "       'Unnamed: 25', 'Unnamed: 26', 'Unnamed: 27', 'Unnamed: 28',\n",
    "       'Unnamed: 29', 'Unnamed: 30', 'Unnamed: 31', 'Unnamed: 32',\n",
    "       'Unnamed: 33', 'Unnamed: 34', 'Unnamed: 35'])"
   ]
  },
  {
   "cell_type": "code",
   "execution_count": 9,
   "metadata": {},
   "outputs": [],
   "source": [
    "# Concat\n",
    "newconcat = pd.concat(newcsvs, ignore_index=True, sort=False)"
   ]
  },
  {
   "cell_type": "code",
   "execution_count": null,
   "metadata": {},
   "outputs": [],
   "source": []
  },
  {
   "cell_type": "code",
   "execution_count": 10,
   "metadata": {},
   "outputs": [],
   "source": [
    "# Remove exraneous colulms from concat\n",
    "newconcat = newconcat.drop(columns = ['COMMENTS'])"
   ]
  },
  {
   "cell_type": "code",
   "execution_count": 11,
   "metadata": {},
   "outputs": [],
   "source": [
    "# Add data source column\n",
    "newconcat['Data Source'] = 'MassBay_2020_to_2022_CONCAT'"
   ]
  },
  {
   "cell_type": "code",
   "execution_count": 12,
   "metadata": {},
   "outputs": [],
   "source": [
    "# Remove space from station col\n",
    "newconcat['STAT_ID'] = [stat.strip(\" \") for stat in newconcat['STAT_ID']]"
   ]
  },
  {
   "cell_type": "code",
   "execution_count": 13,
   "metadata": {},
   "outputs": [
    {
     "data": {
      "text/plain": [
       "1257"
      ]
     },
     "execution_count": 13,
     "metadata": {},
     "output_type": "execute_result"
    }
   ],
   "source": [
    "len(newconcat)"
   ]
  },
  {
   "cell_type": "code",
   "execution_count": 15,
   "metadata": {},
   "outputs": [],
   "source": [
    "# Convert timestamp to datetime if string\n",
    "for ind, row in newconcat.iterrows():\n",
    "    date_str = row['PROF_DATE_TIME_LOCAL']\n",
    "    if type(date_str) == str:\n",
    "        newconcat.loc[ind, 'PROF_DATE_TIME_LOCAL'] = dateparser.parse(date_str)"
   ]
  },
  {
   "cell_type": "code",
   "execution_count": 16,
   "metadata": {},
   "outputs": [
    {
     "name": "stdout",
     "output_type": "stream",
     "text": [
      "AF4 {'2020': 6, '2021': 5, '2022': 0}\n",
      "F05 {'2020': 6, '2021': 0, '2022': 0}\n",
      "N04 {'2020': 48, '2021': 45, '2022': 15}\n",
      "N10 {'2020': 7, '2021': 5, '2022': 0}\n",
      "F23 {'2020': 48, '2021': 45, '2022': 15}\n",
      "AF1 {'2020': 8, '2021': 0, '2022': 0}\n",
      "F15 {'2020': 48, '2021': 45, '2022': 15}\n",
      "N21 {'2020': 40, '2021': 45, '2022': 15}\n",
      "AF6 {'2020': 8, '2021': 0, '2022': 0}\n",
      "AF9 {'2020': 8, '2021': 0, '2022': 0}\n",
      "F10 {'2020': 48, '2021': 45, '2022': 15}\n",
      "F17 {'2020': 8, '2021': 0, '2022': 0}\n",
      "AF8 {'2020': 8, '2021': 0, '2022': 0}\n",
      "F06 {'2020': 48, '2021': 45, '2022': 15}\n",
      "F13 {'2020': 48, '2021': 45, '2022': 15}\n",
      "N07 {'2020': 48, '2021': 45, '2022': 15}\n",
      "N18 {'2020': 48, '2021': 45, '2022': 15}\n",
      "AF2 {'2020': 8, '2021': 0, '2022': 0}\n",
      "N01 {'2020': 48, '2021': 45, '2022': 15}\n",
      "F22 {'2020': 48, '2021': 45, '2022': 15}\n",
      "1257\n"
     ]
    }
   ],
   "source": [
    "x = 0\n",
    "for station in all_stations:\n",
    "    years = {'2020': 0, '2021': 0, '2022': 0}\n",
    "    for ind, row in newconcat.iterrows():\n",
    "        if row['STAT_ID'] == station:\n",
    "            years[row['PROF_DATE_TIME_LOCAL'].strftime(\"%Y\")] += 1\n",
    "    x += sum(list(years.values()))\n",
    "    print(station, years)\n",
    "print(x)"
   ]
  },
  {
   "cell_type": "code",
   "execution_count": 17,
   "metadata": {},
   "outputs": [],
   "source": [
    "# Save concat and metadata\n",
    "newconcat.to_csv('../data/MassBay/NewFormat/concat/MassBay_2020_to_2022_CONCAT.csv', index=False)"
   ]
  },
  {
   "cell_type": "markdown",
   "metadata": {},
   "source": [
    "## Merging Old and New Formats"
   ]
  },
  {
   "cell_type": "code",
   "execution_count": 194,
   "metadata": {},
   "outputs": [],
   "source": [
    "# Read csvs\n",
    "old_format = pd.read_csv('../data/MassBay/OldFormat/concat/MassBay_2017_to_2019_CONCAT.csv')\n",
    "new_format = pd.read_csv('../data/MassBay/NewFormat/concat/MassBay_2020_to_2022_CONCAT.csv')"
   ]
  },
  {
   "cell_type": "code",
   "execution_count": 146,
   "metadata": {},
   "outputs": [],
   "source": [
    "# New to Old Column Mapping (retain new column names)\n",
    "# EVENT_ID : SampleID\n",
    "# STAT_ID : StationID\n",
    "# PROF_DATE_TIME_LOCAL : SampleDateTime\n",
    "# LATITUDE : Latitude\n",
    "# LONGITUDE : Longitude\n",
    "# DEPTH (m): Depth\n",
    "# CONDTVY (mS/cm): Conductivity\n",
    "# DISS_OXYGEN (mg/L) : Dissolved Oxygen (Model 43)\n",
    "# FLU_RAW (ug/L) : Chla Fluor\n",
    "# PCT_SAT_RAW (PCT) : DO % Saturation\n",
    "# pH () : pH <2>\n",
    "# SAL (PSU) : Salinity\n",
    "# SIGMA_T (): Sigma-T\n",
    "# TEMP (C) : Temperature\n",
    "# TRANS (m-1) : Beam Attenuation"
   ]
  },
  {
   "cell_type": "code",
   "execution_count": 195,
   "metadata": {},
   "outputs": [],
   "source": [
    "new_to_old = {'EVENT_ID' : 'SampleID',\n",
    " 'STAT_ID' : 'StationID',\n",
    " 'PROF_DATE_TIME_LOCAL' : 'SampleDateTime',\n",
    " 'LATITUDE' : 'Latitude',\n",
    " 'LONGITUDE' : 'Longitude',\n",
    " 'DEPTH (m)': 'Depth',\n",
    " 'CONDTVY (mS/cm)': 'Conductivity',\n",
    "'DISS_OXYGEN (mg/L)' : 'Dissolved Oxygen (Model 43)',\n",
    "'FLU_RAW (ug/L)' : 'Chla Fluor',\n",
    "'PCT_SAT (PCT)' : 'DO % Saturation',\n",
    "'pH ()': 'pH <2>',\n",
    " 'SAL (PSU)' : 'Salinity',\n",
    "'SIGMA_T ()': 'Sigma-T',\n",
    " 'TEMP (C)' : 'Temperature',\n",
    "'TRANS (m-1)' : 'Beam Attenuation'}"
   ]
  },
  {
   "cell_type": "code",
   "execution_count": 196,
   "metadata": {},
   "outputs": [],
   "source": [
    "old_converted = old_format.copy()\n",
    "for new_col in new_to_old:\n",
    "    old_converted[new_col] = old_converted[new_to_old[new_col]]\n",
    "    old_converted = old_converted.drop(columns = [new_to_old[new_col]])"
   ]
  },
  {
   "cell_type": "code",
   "execution_count": 197,
   "metadata": {},
   "outputs": [],
   "source": [
    "oldAndNew = pd.concat([new_format, old_converted], ignore_index=True, sort=False)"
   ]
  },
  {
   "cell_type": "code",
   "execution_count": 198,
   "metadata": {},
   "outputs": [],
   "source": [
    "oldAndNew['Data Source'] = 'MassBay_2017_to_2022'"
   ]
  },
  {
   "cell_type": "code",
   "execution_count": 201,
   "metadata": {},
   "outputs": [
    {
     "data": {
      "text/plain": [
       "datetime.datetime"
      ]
     },
     "execution_count": 201,
     "metadata": {},
     "output_type": "execute_result"
    }
   ],
   "source": [
    "type(oldAndNew['PROF_DATE_TIME_LOCAL'][2745])"
   ]
  },
  {
   "cell_type": "code",
   "execution_count": 200,
   "metadata": {},
   "outputs": [
    {
     "name": "stderr",
     "output_type": "stream",
     "text": [
      "/Users/becklabash/opt/anaconda3/lib/python3.7/site-packages/dateparser/date_parser.py:35: PytzUsageWarning: The localize method is no longer necessary, as this time zone supports the fold attribute (PEP 495). For more details on migrating to a PEP 495-compliant implementation, see https://pytz-deprecation-shim.readthedocs.io/en/latest/migration.html\n",
      "  date_obj = stz.localize(date_obj)\n"
     ]
    }
   ],
   "source": [
    "# Check dates correct\n",
    "for ind, row in oldAndNew.iterrows():\n",
    "    date = dateparser.parse(row['PROF_DATE_TIME_LOCAL'])\n",
    "    try:\n",
    "        x = date.strftime(\"%Y\")\n",
    "        if not x in [\"2017\", \"2018\", \"2019\", \"2020\", \"2021\", \"2022\"]:\n",
    "            print(date_str)\n",
    "    except:\n",
    "        print(date_str)\n",
    "    oldAndNew.loc[ind, 'PROF_DATE_TIME_LOCAL'] = date"
   ]
  },
  {
   "cell_type": "code",
   "execution_count": 203,
   "metadata": {},
   "outputs": [],
   "source": [
    "eastern = timezone(\"US/Eastern\")\n",
    "# Drop microseconds and set timezone\n",
    "oldAndNew['PROF_DATE_TIME_LOCAL'] = [date.replace(microsecond=0).replace(tzinfo=eastern) for date in oldAndNew['PROF_DATE_TIME_LOCAL']]\n",
    "\n",
    "#Convert to excel parsable string\n",
    "oldAndNew['PROF_DATE_TIME_LOCAL'] = [date.strftime(\"%Y-%m-%d %H:%M:%S%z\") for date in oldAndNew['PROF_DATE_TIME_LOCAL']]"
   ]
  },
  {
   "cell_type": "code",
   "execution_count": 204,
   "metadata": {},
   "outputs": [],
   "source": [
    "oldAndNew.to_csv('../data/MassBay/concat/MassBay_2017_to_2022.csv', index = False)"
   ]
  },
  {
   "cell_type": "code",
   "execution_count": 127,
   "metadata": {},
   "outputs": [],
   "source": [
    "def print_column_descriptions(df):\n",
    "    ind = 1\n",
    "    for col in df.columns:\n",
    "        print(f'Column {ind}: {col} is COLUMN DESCRIPTION   BAD FLAG : -1.E+34')\n",
    "        ind += 1"
   ]
  },
  {
   "cell_type": "markdown",
   "metadata": {},
   "source": [
    "# Concatenating MWRA and SeaGrant data"
   ]
  },
  {
   "cell_type": "code",
   "execution_count": 268,
   "metadata": {},
   "outputs": [],
   "source": [
    "mwra = pd.read_csv('../data/MassBay/concat/MassBay_2017_to_2022.csv')\n",
    "seagrant = pd.read_csv('../data/SeaGrant-TA_DIC-MassBayData/concat/ToRies_Labprocessed2017_to_2019.csv')"
   ]
  },
  {
   "cell_type": "code",
   "execution_count": 159,
   "metadata": {},
   "outputs": [],
   "source": [
    "#.strftime(\"%Y-%m-%d %H:%M:%S%:z\")"
   ]
  },
  {
   "cell_type": "code",
   "execution_count": 269,
   "metadata": {},
   "outputs": [],
   "source": [
    "mwra_to_seagrant = {'EVENT_ID' : 'SampleID',\n",
    " 'STAT_ID' : 'StationID',\n",
    " 'PROF_DATE_TIME_LOCAL' : 'SampleDateTime',\n",
    " 'LATITUDE' : 'Latitude',\n",
    " 'LONGITUDE' : 'Longitude',\n",
    " 'DEPTH (m)': 'Depth',\n",
    " 'CONDTVY (mS/cm)': 'Conductivity',\n",
    "'DISS_OXYGEN (mg/L)' : 'Dissolved Oxygen (Model 43)',\n",
    "'FLU_RAW (ug/L)' : 'Chla Fluor',\n",
    "'PCT_SAT (PCT)' : 'DO % Saturation',\n",
    "'pH ()': 'pH <2>',\n",
    " 'SAL (PSU)' : 'Salinity',\n",
    "'SIGMA_T ()': 'Sigma-T',\n",
    " 'TEMP (C)' : 'Temperature',\n",
    "'TRANS (m-1)' : 'Beam Attenuation'}"
   ]
  },
  {
   "cell_type": "code",
   "execution_count": 270,
   "metadata": {},
   "outputs": [],
   "source": [
    "seagrant_converted = seagrant.copy()\n",
    "for mwra_col in mwra_to_seagrant:\n",
    "    seagrant_converted[mwra_col] = seagrant_converted[mwra_to_seagrant[mwra_col]]\n",
    "    seagrant_converted = seagrant_converted.drop(columns = [mwra_to_seagrant[mwra_col]])"
   ]
  },
  {
   "cell_type": "code",
   "execution_count": 255,
   "metadata": {},
   "outputs": [],
   "source": [
    "combined = pd.concat([mwra, seagrant_converted], ignore_index=True, sort=False)"
   ]
  },
  {
   "cell_type": "code",
   "execution_count": 256,
   "metadata": {},
   "outputs": [],
   "source": [
    "# Check dates correct\n",
    "for date_str in combined['PROF_DATE_TIME_LOCAL']:\n",
    "    try:\n",
    "        date = datetime.datetime.strptime(date_str, \"%Y-%m-%d %H:%M:%S%z\")\n",
    "    except:\n",
    "        print(date_str)"
   ]
  },
  {
   "cell_type": "code",
   "execution_count": 257,
   "metadata": {},
   "outputs": [],
   "source": [
    "# Retrieve MWRA rows that are not in DIC data\n",
    "no_dupes = combined.drop_duplicates(subset = ['LATITUDE', 'LONGITUDE', 'pH ()'], keep = 'last')\n",
    "mwra_no_dupes = no_dupes[no_dupes['Data Source'] == 'MassBay_2017_to_2022']"
   ]
  },
  {
   "cell_type": "code",
   "execution_count": 258,
   "metadata": {},
   "outputs": [],
   "source": [
    "# Concatenate these rows with DIC data\n",
    "concat = pd.concat([mwra_no_dupes, seagrant_converted], ignore_index=True, sort=False)"
   ]
  },
  {
   "cell_type": "code",
   "execution_count": 263,
   "metadata": {},
   "outputs": [],
   "source": [
    "# Strip station ID spaces\n",
    "#concat['STAT_ID'] = [stat.strip(\" \") for stat in concat['STAT_ID']]\n",
    "for ind, row in concat.iterrows():\n",
    "    if type(row['STAT_ID']) == str:\n",
    "        concat.loc[ind, 'STAT_ID'] = row['STAT_ID'].strip(\" \")"
   ]
  },
  {
   "cell_type": "code",
   "execution_count": 264,
   "metadata": {},
   "outputs": [],
   "source": [
    "concat.to_csv('../data/concat/MWRA_seagrant_concat.csv', index = False)"
   ]
  },
  {
   "cell_type": "markdown",
   "metadata": {},
   "source": [
    "### Summary Map CSV creation"
   ]
  },
  {
   "cell_type": "code",
   "execution_count": 265,
   "metadata": {},
   "outputs": [],
   "source": [
    "# Strip station ID spaces\n",
    "i = 0\n",
    "for ind, row in no_dupes.iterrows():\n",
    "    if type(row['STAT_ID']) == str:\n",
    "        no_dupes.loc[ind, 'STAT_ID'] = row['STAT_ID'].strip(\" \")"
   ]
  },
  {
   "cell_type": "code",
   "execution_count": 271,
   "metadata": {},
   "outputs": [],
   "source": [
    "y2017 = pd.DataFrame(columns = no_dupes.columns)\n",
    "y2018 = pd.DataFrame(columns = no_dupes.columns)\n",
    "y2019 = pd.DataFrame(columns = no_dupes.columns)\n",
    "y2020 = pd.DataFrame(columns = no_dupes.columns)\n",
    "y2021 = pd.DataFrame(columns = no_dupes.columns)\n",
    "y2022 = pd.DataFrame(columns = no_dupes.columns)\n",
    "\n",
    "# Split data by year without replicates\n",
    "for ind, row in no_dupes.iterrows():\n",
    "    year = datetime.datetime.strptime(row['PROF_DATE_TIME_LOCAL'], \"%Y-%m-%d %H:%M:%S%z\").strftime(\"%Y\")\n",
    "    if year == \"2017\":\n",
    "        y2017.loc[len(y2017.index)] = row\n",
    "    elif year == \"2018\":\n",
    "        y2018.loc[len(y2018.index)] = row\n",
    "    elif year == \"2019\":\n",
    "        y2019.loc[len(y2019.index)] = row\n",
    "    elif year == \"2020\":\n",
    "        y2020.loc[len(y2020.index)] = row\n",
    "    elif year == \"2021\":\n",
    "        y2021.loc[len(y2021.index)] = row\n",
    "    elif year == \"2022\":\n",
    "        y2022.loc[len(y2022.index)] = row"
   ]
  },
  {
   "cell_type": "code",
   "execution_count": 279,
   "metadata": {},
   "outputs": [],
   "source": [
    "y2017.to_csv('y2017_summary.csv')\n",
    "y2018.to_csv('y2018_summary.csv')\n",
    "y2019.to_csv('y2019_summary.csv')\n",
    "y2020.to_csv('y2020_summary.csv')\n",
    "y2021.to_csv('y2021_summary.csv')\n",
    "y2022.to_csv('y2022_summary.csv')"
   ]
  },
  {
   "cell_type": "code",
   "execution_count": 275,
   "metadata": {},
   "outputs": [],
   "source": [
    "no_invalid_dates = no_dupes.dropna(subset=['PROF_DATE_TIME_LOCAL'])"
   ]
  },
  {
   "cell_type": "code",
   "execution_count": 276,
   "metadata": {},
   "outputs": [
    {
     "data": {
      "text/plain": [
       "2974"
      ]
     },
     "execution_count": 276,
     "metadata": {},
     "output_type": "execute_result"
    }
   ],
   "source": [
    "len(no_dupes)"
   ]
  },
  {
   "cell_type": "code",
   "execution_count": 278,
   "metadata": {},
   "outputs": [],
   "source": [
    "no_invalid_dates.to_csv('unique_data_dates.csv')"
   ]
  },
  {
   "cell_type": "code",
   "execution_count": null,
   "metadata": {},
   "outputs": [],
   "source": []
  }
 ],
 "metadata": {
  "kernelspec": {
   "display_name": "Python 3",
   "language": "python",
   "name": "python3"
  },
  "language_info": {
   "codemirror_mode": {
    "name": "ipython",
    "version": 3
   },
   "file_extension": ".py",
   "mimetype": "text/x-python",
   "name": "python",
   "nbconvert_exporter": "python",
   "pygments_lexer": "ipython3",
   "version": "3.7.4"
  }
 },
 "nbformat": 4,
 "nbformat_minor": 2
}
