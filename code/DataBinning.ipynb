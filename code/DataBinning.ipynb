{
 "cells": [
  {
   "cell_type": "markdown",
   "metadata": {},
   "source": [
    "### Description\n",
    "This notebook explores variability and quanity of pH data across time in order to create reasonable time bins to spatially interpolate within."
   ]
  },
  {
   "cell_type": "code",
   "execution_count": 1,
   "metadata": {},
   "outputs": [],
   "source": [
    "import pandas as pd\n",
    "from matplotlib.dates import DateFormatter\n",
    "import matplotlib.pyplot as plt"
   ]
  },
  {
   "cell_type": "code",
   "execution_count": 2,
   "metadata": {},
   "outputs": [],
   "source": [
    "# Read the data and parse the PROF_DATE_TIME_LOCAL column to a datetime object\n",
    "data = pd.read_csv('../data/concat/MWRA_TA_DIC_2017_to_2022.csv',\n",
    "index_col='PROF_DATE_TIME_LOCAL', parse_dates=True)\n",
    "date_form = DateFormatter(\"%m/%y\")"
   ]
  },
  {
   "cell_type": "code",
   "execution_count": 24,
   "metadata": {},
   "outputs": [],
   "source": [
    "f22 = 'F22'\n",
    "\n",
    "f22 = data[(data['STAT_ID'] == f22)\n",
    "& (data['pH ()'].notnull())\n",
    "& (data['VAL_QUAL'].isnull())\n",
    "& (data['SAMPLE_DEPTH_CODE'] == 'A')]\n",
    "\n",
    "all = data[(data['pH ()'].notnull())\n",
    "& (data['VAL_QUAL'].isnull())\n",
    "& (data['SAMPLE_DEPTH_CODE'] == 'A')]"
   ]
  },
  {
   "cell_type": "code",
   "execution_count": 11,
   "metadata": {},
   "outputs": [
    {
     "ename": "NameError",
     "evalue": "name 'reliance' is not defined",
     "output_type": "error",
     "traceback": [
      "\u001b[0;31m---------------------------------------------------------------------------\u001b[0m",
      "\u001b[0;31mNameError\u001b[0m                                 Traceback (most recent call last)",
      "\u001b[0;32m<ipython-input-11-d2cdce511701>\u001b[0m in \u001b[0;36m<module>\u001b[0;34m\u001b[0m\n\u001b[1;32m      1\u001b[0m \u001b[0mpH\u001b[0m \u001b[0;34m=\u001b[0m \u001b[0mall\u001b[0m\u001b[0;34m[\u001b[0m\u001b[0;34m'pH ()'\u001b[0m\u001b[0;34m]\u001b[0m\u001b[0;34m.\u001b[0m\u001b[0mto_frame\u001b[0m\u001b[0;34m(\u001b[0m\u001b[0;34m)\u001b[0m\u001b[0;34m\u001b[0m\u001b[0;34m\u001b[0m\u001b[0m\n\u001b[1;32m      2\u001b[0m \u001b[0;34m\u001b[0m\u001b[0m\n\u001b[0;32m----> 3\u001b[0;31m \u001b[0mreliance\u001b[0m\u001b[0;34m[\u001b[0m\u001b[0;34m'EWMA30'\u001b[0m\u001b[0;34m]\u001b[0m \u001b[0;34m=\u001b[0m \u001b[0mreliance\u001b[0m\u001b[0;34m[\u001b[0m\u001b[0;34m'Close'\u001b[0m\u001b[0;34m]\u001b[0m\u001b[0;34m.\u001b[0m\u001b[0mewm\u001b[0m\u001b[0;34m(\u001b[0m\u001b[0mspan\u001b[0m\u001b[0;34m=\u001b[0m\u001b[0;36m30\u001b[0m\u001b[0;34m)\u001b[0m\u001b[0;34m.\u001b[0m\u001b[0mmean\u001b[0m\u001b[0;34m(\u001b[0m\u001b[0;34m)\u001b[0m\u001b[0;34m\u001b[0m\u001b[0;34m\u001b[0m\u001b[0m\n\u001b[0m\u001b[1;32m      4\u001b[0m \u001b[0;34m\u001b[0m\u001b[0m\n\u001b[1;32m      5\u001b[0m \u001b[0;34m\u001b[0m\u001b[0m\n",
      "\u001b[0;31mNameError\u001b[0m: name 'reliance' is not defined"
     ]
    }
   ],
   "source": [
    "#shallow = f22[f22['SAMPLE_DEPTH_CODE'] == 'A']\n",
    "#deep = f22[f22['SAMPLE_DEPTH_CODE'] == 'E']\n",
    "\n",
    "fig = plt.figure() \n",
    "fig.set_size_inches(15, 15)\n",
    "\n",
    "# Plot the shallow and deep data\n",
    "all.plot(x='PROF_DATE_TIME_LOCAL', y='pH ()', label='Shallow', kind = 'scatter')\n",
    "plt.gca().xaxis.set_major_formatter(date_form)\n",
    "\n",
    "#print(len(f22[f22['SAMPLE_DEPTH_CODE'] == 'E']))"
   ]
  },
  {
   "cell_type": "code",
   "execution_count": 34,
   "metadata": {},
   "outputs": [
    {
     "name": "stderr",
     "output_type": "stream",
     "text": [
      "/Library/Frameworks/Python.framework/Versions/3.8/lib/python3.8/site-packages/matplotlib/cbook/__init__.py:1402: FutureWarning: Support for multi-dimensional indexing (e.g. `obj[:, None]`) is deprecated and will be removed in a future version.  Convert to a numpy array before indexing instead.\n",
      "  ndim = x[:, None].ndim\n",
      "/Library/Frameworks/Python.framework/Versions/3.8/lib/python3.8/site-packages/matplotlib/axes/_base.py:276: FutureWarning: Support for multi-dimensional indexing (e.g. `obj[:, None]`) is deprecated and will be removed in a future version.  Convert to a numpy array before indexing instead.\n",
      "  x = x[:, np.newaxis]\n",
      "/Library/Frameworks/Python.framework/Versions/3.8/lib/python3.8/site-packages/matplotlib/axes/_base.py:278: FutureWarning: Support for multi-dimensional indexing (e.g. `obj[:, None]`) is deprecated and will be removed in a future version.  Convert to a numpy array before indexing instead.\n",
      "  y = y[:, np.newaxis]\n"
     ]
    },
    {
     "data": {
      "image/png": "[encoded data removed]",
      "text/plain": [
       "<Figure size 1152x576 with 1 Axes>"
      ]
     },
     "metadata": {
      "needs_background": "light"
     },
     "output_type": "display_data"
    }
   ],
   "source": [
    "pH = all['pH ()'].to_frame()\n",
    "# Standard deviation of the pH values\n",
    "pH['EWMA30'] = pH['pH ()'].ewm(span=40).std()\n",
    "\n",
    "fig = plt.figure()\n",
    "# Set the fig size\n",
    "fig.set_size_inches(16, 8)\n",
    "\n",
    "# Blue circles\n",
    "#plt.scatter(pH.index, pH['pH ()'], color = 'blue', label='pH ()')\n",
    "plt.plot(pH.index, pH['EWMA30'], color  = 'red', label='EWMA30')\n",
    "plt.gca().xaxis.set_major_formatter(date_form)"
   ]
  },
  {
   "cell_type": "code",
   "execution_count": 20,
   "metadata": {},
   "outputs": [],
   "source": [
    "data = pd.read_csv('../data/concat/MWRA_TA_DIC_2017_to_2022.csv', parse_dates=['PROF_DATE_TIME_LOCAL'])"
   ]
  },
  {
   "cell_type": "code",
   "execution_count": 21,
   "metadata": {},
   "outputs": [],
   "source": [
    "pH = data[(data['pH ()'].notnull()) & (data['VAL_QUAL'].isnull()) & (data['SAMPLE_DEPTH_CODE'] == 'A')]"
   ]
  },
  {
   "cell_type": "code",
   "execution_count": 22,
   "metadata": {},
   "outputs": [
    {
     "name": "stderr",
     "output_type": "stream",
     "text": [
      "<ipython-input-22-b768c611c972>:2: SettingWithCopyWarning: \n",
      "A value is trying to be set on a copy of a slice from a DataFrame.\n",
      "Try using .loc[row_indexer,col_indexer] = value instead\n",
      "\n",
      "See the caveats in the documentation: https://pandas.pydata.org/pandas-docs/stable/user_guide/indexing.html#returning-a-view-versus-a-copy\n",
      "  pH['PROF_DATE_TIME_LOCAL'] = pd.to_datetime(pH['PROF_DATE_TIME_LOCAL'])\n"
     ]
    }
   ],
   "source": [
    "# Convert the PROF_DATE_TIME_LOCAL column to datetimes\n",
    "pH['PROF_DATE_TIME_LOCAL'] = pd.to_datetime(pH['PROF_DATE_TIME_LOCAL'])"
   ]
  },
  {
   "cell_type": "code",
   "execution_count": 23,
   "metadata": {},
   "outputs": [
    {
     "ename": "AttributeError",
     "evalue": "'Timestamp' object has no attribute 'dt'",
     "output_type": "error",
     "traceback": [
      "\u001b[0;31m---------------------------------------------------------------------------\u001b[0m",
      "\u001b[0;31mAttributeError\u001b[0m                            Traceback (most recent call last)",
      "\u001b[0;32m<ipython-input-23-75bb93c92757>\u001b[0m in \u001b[0;36m<module>\u001b[0;34m\u001b[0m\n\u001b[0;32m----> 1\u001b[0;31m \u001b[0mpH\u001b[0m\u001b[0;34m[\u001b[0m\u001b[0;34m'MONTH_BIN'\u001b[0m\u001b[0;34m]\u001b[0m \u001b[0;34m=\u001b[0m \u001b[0;34m[\u001b[0m\u001b[0mdate\u001b[0m\u001b[0;34m.\u001b[0m\u001b[0mdt\u001b[0m\u001b[0;34m.\u001b[0m\u001b[0mmonth\u001b[0m \u001b[0;34m+\u001b[0m \u001b[0;34m'/'\u001b[0m \u001b[0;34m+\u001b[0m \u001b[0mdate\u001b[0m\u001b[0;34m.\u001b[0m\u001b[0mdt\u001b[0m\u001b[0;34m.\u001b[0m\u001b[0myear\u001b[0m \u001b[0;32mfor\u001b[0m \u001b[0mdate\u001b[0m \u001b[0;32min\u001b[0m \u001b[0mpH\u001b[0m\u001b[0;34m[\u001b[0m\u001b[0;34m'PROF_DATE_TIME_LOCAL'\u001b[0m\u001b[0;34m]\u001b[0m\u001b[0;34m]\u001b[0m\u001b[0;34m\u001b[0m\u001b[0;34m\u001b[0m\u001b[0m\n\u001b[0m",
      "\u001b[0;32m<ipython-input-23-75bb93c92757>\u001b[0m in \u001b[0;36m<listcomp>\u001b[0;34m(.0)\u001b[0m\n\u001b[0;32m----> 1\u001b[0;31m \u001b[0mpH\u001b[0m\u001b[0;34m[\u001b[0m\u001b[0;34m'MONTH_BIN'\u001b[0m\u001b[0;34m]\u001b[0m \u001b[0;34m=\u001b[0m \u001b[0;34m[\u001b[0m\u001b[0mdate\u001b[0m\u001b[0;34m.\u001b[0m\u001b[0mdt\u001b[0m\u001b[0;34m.\u001b[0m\u001b[0mmonth\u001b[0m \u001b[0;34m+\u001b[0m \u001b[0;34m'/'\u001b[0m \u001b[0;34m+\u001b[0m \u001b[0mdate\u001b[0m\u001b[0;34m.\u001b[0m\u001b[0mdt\u001b[0m\u001b[0;34m.\u001b[0m\u001b[0myear\u001b[0m \u001b[0;32mfor\u001b[0m \u001b[0mdate\u001b[0m \u001b[0;32min\u001b[0m \u001b[0mpH\u001b[0m\u001b[0;34m[\u001b[0m\u001b[0;34m'PROF_DATE_TIME_LOCAL'\u001b[0m\u001b[0;34m]\u001b[0m\u001b[0;34m]\u001b[0m\u001b[0;34m\u001b[0m\u001b[0;34m\u001b[0m\u001b[0m\n\u001b[0m",
      "\u001b[0;31mAttributeError\u001b[0m: 'Timestamp' object has no attribute 'dt'"
     ]
    }
   ],
   "source": [
    "pH['MONTH_BIN'] = [date.dt.month + '/' + date.dt.year for date in pH['PROF_DATE_TIME_LOCAL']]"
   ]
  },
  {
   "cell_type": "code",
   "execution_count": 7,
   "metadata": {},
   "outputs": [
    {
     "data": {
      "text/plain": [
       "Index(['STUDY_ID', 'EVENT_ID', 'STAT_ID', 'ORDERED_DEPTH_CODE', 'SAMPLE_ID',\n",
       "       'SAMPLE_DEPTH_TOP', 'SAMPLE_DEPTH_BOTTOM', 'LATITUDE', 'LONGITUDE',\n",
       "       'VAL_QUAL', 'Data Source', 'SAMPLE_DEPTH_CODE', 'DEPTH (m)',\n",
       "       'CONDTVY (mS/cm)', 'DISS_OXYGEN (mg/L)', 'FLUORESCENCE (ug/L)',\n",
       "       'FLU_RAW (ug/L)', 'PCT_SAT (PCT)', 'pH ()', 'SAL (PSU)', 'SIGMA_T ()',\n",
       "       'TEMP (C)', 'TRANS (m-1)', 'Station_D', 'Air Irradiance',\n",
       "       'Water Irradiance', 'TA in (mmol/kgSW)', 'TCO2 in (mmol/kgSW)',\n",
       "       't(oC) out', 'P (dbars) out', 'pH out', 'fCO2 out (matm)',\n",
       "       'pCO2 out (matm)', 'HCO3 out (mmol/kgSW)', 'CO3 out (mmol/kgSW)',\n",
       "       'CO2 out (mmol/kgSW)', 'B Alk out (mmol/kgSW)', 'OH out (mmol/kgSW)',\n",
       "       'P Alk out (mmol/kgSW)', 'Si Alk out (mmol/kgSW) ', 'Revelle out',\n",
       "       'WCa out', 'WAr out', 'xCO2 out (dry at 1 atm) (ppm)',\n",
       "       'Field Replicate', 'VINDTA Sample Name', 'Sampled Bottle Name',\n",
       "       'Sampling Date', 'Sampling Depth', 'Salinity - Carolina',\n",
       "       'Salinity - Ries ', 'Run T', 'Sampling T', 'Pressure', 'Comments'],\n",
       "      dtype='object')"
      ]
     },
     "execution_count": 7,
     "metadata": {},
     "output_type": "execute_result"
    }
   ],
   "source": [
    "pH.columns"
   ]
  },
  {
   "cell_type": "code",
   "execution_count": null,
   "metadata": {},
   "outputs": [],
   "source": []
  }
 ],
 "metadata": {
  "kernelspec": {
   "display_name": "Python 3.8.1 64-bit",
   "language": "python",
   "name": "python3"
  },
  "language_info": {
   "codemirror_mode": {
    "name": "ipython",
    "version": 3
   },
   "file_extension": ".py",
   "mimetype": "text/x-python",
   "name": "python",
   "nbconvert_exporter": "python",
   "pygments_lexer": "ipython3",
   "version": "3.8.1"
  },
  "orig_nbformat": 4,
  "vscode": {
   "interpreter": {
    "hash": "aee8b7b246df8f9039afb4144a1f6fd8d2ca17a180786b69acc140d282b71a49"
   }
  }
 },
 "nbformat": 4,
 "nbformat_minor": 2
}
