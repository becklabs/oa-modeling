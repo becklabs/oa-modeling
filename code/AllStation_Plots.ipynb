{
 "cells": [
  {
   "cell_type": "markdown",
   "metadata": {},
   "source": [
    "### Description\n",
    "This notebook iteratively generates various plots for each station in the MWRA_TA_DIC_2017_to_2022 file. Additionally, some plots explore the relationship between two variables across all stations."
   ]
  },
  {
   "cell_type": "code",
   "execution_count": 30,
   "metadata": {},
   "outputs": [],
   "source": [
    "import os\n",
    "import pandas as pd\n",
    "import matplotlib.pyplot as plt\n",
    "import numpy as np\n",
    "from matplotlib.dates import DateFormatter"
   ]
  },
  {
   "cell_type": "code",
   "execution_count": 38,
   "metadata": {},
   "outputs": [],
   "source": [
    "# Read the data and parse the PROF_DATE_TIME_LOCAL column to a datetime object\n",
    "data = pd.read_csv('../data/concat/MWRA_TA_DIC_2017_to_2022.csv'\n",
    "                   , parse_dates=['PROF_DATE_TIME_LOCAL'])\n",
    "date_form = DateFormatter(\"%m/%y\")"
   ]
  },
  {
   "cell_type": "code",
   "execution_count": null,
   "metadata": {},
   "outputs": [],
   "source": [
    "def save_fig(fig, fig_path):\n",
    "  if not os.path.exists(os.path.dirname(fig_path)):\n",
    "        os.makedirs(os.path.dirname(fig_path))\n",
    "  fig.savefig(fig_path)\n",
    "  plt.close(fig)"
   ]
  },
  {
   "cell_type": "markdown",
   "metadata": {},
   "source": [
    "### Plot Salinity vs Total Alkalinity"
   ]
  },
  {
   "cell_type": "code",
   "execution_count": 41,
   "metadata": {},
   "outputs": [
    {
     "data": {
      "image/png": "[encoded data removed]",
      "text/plain": [
       "<Figure size 864x432 with 1 Axes>"
      ]
     },
     "metadata": {
      "needs_background": "light"
     },
     "output_type": "display_data"
    }
   ],
   "source": [
    "sal_and_ta = data[(data['SAL (PSU)'].notnull()) & (data['TA in (mmol/kgSW)'].notnull())]\n",
    "# Plot 'SAL (PSU)' vs 'TA in (mmol/kgSW)'\n",
    "sal_and_ta.plot(x='SAL (PSU)', y='TA in (mmol/kgSW)', kind = 'scatter', figsize=(12, 6))\n",
    "plt.xlabel('SAL (PSU)')\n",
    "plt.ylabel('TA in (mmol/kgSW)')\n",
    "plt.title('SAL (PSU) vs TA in (mmol/kgSW)')\n",
    "plt.show()"
   ]
  },
  {
   "cell_type": "markdown",
   "metadata": {},
   "source": [
    "### Plot pH() TA and TCO2 combined graphs for each station"
   ]
  },
  {
   "cell_type": "code",
   "execution_count": null,
   "metadata": {},
   "outputs": [],
   "source": [
    "# Stacked graphs of pH, TA, DIC for each station\n",
    "stations = data['STAT_ID'].unique()\n",
    "for stat_id in stations:\n",
    "  stat_data = data[data['STAT_ID'] == stat_id]\n",
    "  ph = stat_data[stat_data['pH ()'].notnull() & data['VAL_QUAL'].isnull()]\n",
    "  ta  = stat_data[stat_data['TA in (mmol/kgSW)'].notnull()]\n",
    "  dic = stat_data[stat_data['TCO2 in (mmol/kgSW)'].notnull()]\n",
    "\n",
    "  fig, ax = plt.subplots(3, 1, figsize=(10, 10))\n",
    "  fig.suptitle(stat_id)\n",
    "  \n",
    "  ax[0].plot(ph['PROF_DATE_TIME_LOCAL'], ph['pH ()'], 'o', color='red')\n",
    "  ax[0].set_ylabel('pH')\n",
    "  ax[0].xaxis.set_major_formatter(date_form)\n",
    "\n",
    "  ax[1].plot(ta['PROF_DATE_TIME_LOCAL'], ta['TA in (mmol/kgSW)'], 'o', color='blue')\n",
    "  ax[1].set_ylabel('TA in (mmol/kgSW)')\n",
    "  ax[1].xaxis.set_major_formatter(date_form)\n",
    "\n",
    "  ax[2].plot(dic['PROF_DATE_TIME_LOCAL'], dic['TCO2 in (mmol/kgSW)'], 'o', color='green')\n",
    "  ax[2].set_ylabel('TCO2 in (mmol/kgSW)')\n",
    "  ax[2].xaxis.set_major_formatter(date_form)\n",
    "  fig_path = '../figures/' + stat_id + '.png'\n",
    "  #save_fig(fig, fig_path)"
   ]
  },
  {
   "cell_type": "markdown",
   "metadata": {},
   "source": [
    "### Plot the good and bad pH values for each station"
   ]
  },
  {
   "cell_type": "code",
   "execution_count": null,
   "metadata": {},
   "outputs": [],
   "source": [
    "# Plot bad pH values in red, good in green, station-wise\n",
    "ph = data[(data['pH ()'].notnull()) & (data['VAL_QUAL'].isnull())]\n",
    "bad_ph = data[(data['pH ()'].notnull()) & (data['VAL_QUAL'].notnull())]\n",
    "\n",
    "stations = ph['STAT_ID'].unique()\n",
    "for stat_id in stations:\n",
    "  fig, ax = plt.subplots(1, 1, figsize=(10, 10))\n",
    "  fig.suptitle(stat_id)\n",
    "  ax.plot(ph[ph['STAT_ID'] == stat_id]['PROF_DATE_TIME_LOCAL'], ph[ph['STAT_ID'] == stat_id]['pH ()'], 'o', color='green')\n",
    "  ax.plot(bad_ph[bad_ph['STAT_ID'] == stat_id]['PROF_DATE_TIME_LOCAL'], bad_ph[bad_ph['STAT_ID'] == stat_id]['pH ()'], 'o', color='red')\n",
    "  ax.xaxis.set_major_formatter(date_form)\n",
    "  ax.set_ylabel('pH')\n",
    "  fig_path = f'../figures/Per_Station/{stat_id}/pH_With_Bad_Vals.png'\n",
    "  #save_fig(fig, fig_path)"
   ]
  },
  {
   "cell_type": "markdown",
   "metadata": {},
   "source": [
    "### Plot the TA for each station"
   ]
  },
  {
   "cell_type": "code",
   "execution_count": null,
   "metadata": {},
   "outputs": [],
   "source": [
    "# TA Station-wise\n",
    "ta = data[data['TA in (mmol/kgSW)'].notnull()]\n",
    "stations = ta['STAT_ID'].unique()\n",
    "for stat_id in stations:\n",
    "    station_data = ta[ta['STAT_ID'] == stat_id]\n",
    "    # Scatter plot of PROF_DATE_TIME_LOCAL and pH ()\n",
    "    station_data.plot(x='PROF_DATE_TIME_LOCAL', y='TA in (mmol/kgSW)', kind='scatter')\n",
    "    plt.title(stat_id)\n",
    "    plt.xlabel('DATE (month/year)')\n",
    "    plt.gca().xaxis.set_major_formatter(date_form)\n",
    "    fig_path = f'../figures/Per_Station/{stat_id}/TA.png'\n",
    "    # Create the figure directory if it doesnt exist\n",
    "    if not os.path.exists(os.path.dirname(fig_path)):\n",
    "        os.makedirs(os.path.dirname(fig_path))\n",
    "    #plt.savefig(fig_path)\n",
    "    plt.close()"
   ]
  },
  {
   "cell_type": "markdown",
   "metadata": {},
   "source": [
    "### Plot the DIC for each station"
   ]
  },
  {
   "cell_type": "code",
   "execution_count": null,
   "metadata": {},
   "outputs": [],
   "source": [
    "# DIC Station-wise\n",
    "dic = data[data['TCO2 in (mmol/kgSW)'].notnull()]\n",
    "stations = dic['STAT_ID'].unique()\n",
    "for stat_id in stations:\n",
    "    station_data = dic[dic['STAT_ID'] == stat_id]\n",
    "    # Scatter plot of PROF_DATE_TIME_LOCAL and pH ()\n",
    "    station_data.plot(x='PROF_DATE_TIME_LOCAL', y='TCO2 in (mmol/kgSW)', kind='scatter')\n",
    "    plt.title(stat_id)\n",
    "    plt.xlabel('DATE (month/year)')\n",
    "    plt.gca().xaxis.set_major_formatter(date_form)\n",
    "    fig_path = f'../figures/Per_Station/{stat_id}/DIC.png'\n",
    "    # Create the figure directory if it doesnt exist\n",
    "    if not os.path.exists(os.path.dirname(fig_path)):\n",
    "        os.makedirs(os.path.dirname(fig_path))\n",
    "    #plt.savefig(fig_path)\n",
    "    plt.close()"
   ]
  },
  {
   "cell_type": "markdown",
   "metadata": {},
   "source": [
    "### Plot the temperature for each station"
   ]
  },
  {
   "cell_type": "code",
   "execution_count": null,
   "metadata": {},
   "outputs": [],
   "source": [
    "# Temperature station-wise\n",
    "ta = data[data['TEMP (C)'].notnull()]\n",
    "stations = ta['STAT_ID'].unique()\n",
    "for stat_id in stations:\n",
    "    station_data = ta[ta['STAT_ID'] == stat_id]\n",
    "    # Scatter plot of PROF_DATE_TIME_LOCAL and pH ()\n",
    "    station_data.plot(x='PROF_DATE_TIME_LOCAL', y='TEMP (C)', kind='scatter')\n",
    "    plt.title(stat_id)\n",
    "    plt.xlabel('DATE (month/year)')\n",
    "    plt.gca().xaxis.set_major_formatter(date_form)\n",
    "    fig_path = f'../figures/Per_Station/{stat_id}/Temp.png'\n",
    "    # Create the figure directory if it doesnt exist\n",
    "    if not os.path.exists(os.path.dirname(fig_path)):\n",
    "        os.makedirs(os.path.dirname(fig_path))\n",
    "    plt.savefig(fig_path)\n",
    "    plt.close()"
   ]
  },
  {
   "cell_type": "markdown",
   "metadata": {},
   "source": [
    "### Plot pH vs Fluorescence"
   ]
  },
  {
   "cell_type": "code",
   "execution_count": null,
   "metadata": {},
   "outputs": [],
   "source": [
    "# PH compared to FLUOR\n",
    "dic = data[(data['FLUORESCENCE (ug/L)'].notnull()) & (data['VAL_QUAL'].isnull()) & (data['pH ()'].notnull())]\n",
    "stations = dic['STAT_ID'].unique()\n",
    "for stat_id in stations:\n",
    "    station_data = dic[dic['STAT_ID'] == stat_id]\n",
    "    # Plot PH and Fluor against time\n",
    "    fig, ax = plt.subplots(1, 1, figsize=(10, 10))\n",
    "    fig.suptitle(stat_id)\n",
    "    ax.plot(station_data['PROF_DATE_TIME_LOCAL'], station_data['pH ()'], 'o', color='green')\n",
    "    ax.plot(station_data['PROF_DATE_TIME_LOCAL'], station_data['FLUORESCENCE (ug/L)'], 'o', color='red')\n",
    "    ax.xaxis.set_major_formatter(date_form)\n",
    "    ax.set_ylabel('pH')\n",
    "    fig_path = f'../figures/Per_Station/{stat_id}/pH_with_FLU.png'\n",
    "    if not os.path.exists(os.path.dirname(fig_path)):\n",
    "        os.makedirs(os.path.dirname(fig_path))\n",
    "    fig.savefig(fig_path)\n",
    "    plt.close(fig)"
   ]
  }
 ],
 "metadata": {
  "kernelspec": {
   "display_name": "Python 3.8.1 64-bit",
   "language": "python",
   "name": "python3"
  },
  "language_info": {
   "codemirror_mode": {
    "name": "ipython",
    "version": 3
   },
   "file_extension": ".py",
   "mimetype": "text/x-python",
   "name": "python",
   "nbconvert_exporter": "python",
   "pygments_lexer": "ipython3",
   "version": "3.8.1"
  },
  "orig_nbformat": 4,
  "vscode": {
   "interpreter": {
    "hash": "aee8b7b246df8f9039afb4144a1f6fd8d2ca17a180786b69acc140d282b71a49"
   }
  }
 },
 "nbformat": 4,
 "nbformat_minor": 2
}
